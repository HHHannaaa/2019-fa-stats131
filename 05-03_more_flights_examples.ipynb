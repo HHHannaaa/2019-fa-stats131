{
 "cells": [
  {
   "cell_type": "code",
   "execution_count": 1,
   "metadata": {},
   "outputs": [],
   "source": [
    "import numpy as np\n",
    "import pandas as pd\n",
    "import matplotlib.pyplot as plt"
   ]
  },
  {
   "cell_type": "code",
   "execution_count": 2,
   "metadata": {},
   "outputs": [],
   "source": [
    "flights = pd.read_csv('nycflights.csv', dtype = {'dep_time' : object, \n",
    "                                                 'dep_delay': object, \n",
    "                                                 'arr_time' : object, \n",
    "                                                 'arr_delay': object, \n",
    "                                                 'air_time' : object})\n",
    "flights['date'] = pd.to_datetime({'year':flights.year, 'month':flights.month, 'day':flights.day})\n",
    "def convert_time(column_name):\n",
    "    the_min = flights[column_name][ flights[column_name].notnull() ].astype(str).str[-2:  ]\n",
    "    the_hr  = flights[column_name][ flights[column_name].notnull() ].astype(str).str[  :-2]\n",
    "    date_time = pd.to_datetime({'year':flights.year, 'month':flights.month, 'day':flights.day, \n",
    "                                'hour': the_hr, 'minute': the_min})\n",
    "    # the magic of indexes allow us to combine flights.year which has all the rows\n",
    "    # and the_hr which only exists for rows where dep_time is not NaN\n",
    "    return date_time\n",
    "dep_date_time       = convert_time('dep_time')\n",
    "sched_dep_date_time = convert_time('sched_dep_time')\n",
    "arr_date_time       = convert_time('arr_time')\n",
    "sched_arr_date_time = convert_time('sched_arr_time')\n",
    "\n",
    "datetimes = pd.concat({'dep_date_time': dep_date_time,\n",
    "           'sched_dep_date_time': sched_dep_date_time, \n",
    "           'arr_date_time':arr_date_time, \n",
    "           'sched_arr_date_time':sched_arr_date_time}, axis = 1)\n",
    "flights = flights.join(datetimes)  # we use the .join() function"
   ]
  },
  {
   "cell_type": "markdown",
   "metadata": {},
   "source": [
    "### A Few Exercises"
   ]
  },
  {
   "cell_type": "code",
   "execution_count": 3,
   "metadata": {},
   "outputs": [
    {
     "name": "stdout",
     "output_type": "stream",
     "text": [
      "<class 'pandas.core.frame.DataFrame'>\n",
      "RangeIndex: 336776 entries, 0 to 336775\n",
      "Data columns (total 24 columns):\n",
      "year                   336776 non-null int64\n",
      "month                  336776 non-null int64\n",
      "day                    336776 non-null int64\n",
      "dep_time               328521 non-null object\n",
      "sched_dep_time         336776 non-null int64\n",
      "dep_delay              328521 non-null object\n",
      "arr_time               328063 non-null object\n",
      "sched_arr_time         336776 non-null int64\n",
      "arr_delay              327346 non-null object\n",
      "carrier                336776 non-null object\n",
      "flight                 336776 non-null int64\n",
      "tailnum                334264 non-null object\n",
      "origin                 336776 non-null object\n",
      "dest                   336776 non-null object\n",
      "air_time               327346 non-null object\n",
      "distance               336776 non-null int64\n",
      "hour                   336776 non-null int64\n",
      "minute                 336776 non-null int64\n",
      "time_hour              336776 non-null object\n",
      "date                   336776 non-null datetime64[ns]\n",
      "arr_date_time          321157 non-null datetime64[ns]\n",
      "dep_date_time          327640 non-null datetime64[ns]\n",
      "sched_arr_date_time    332590 non-null datetime64[ns]\n",
      "sched_dep_date_time    336776 non-null datetime64[ns]\n",
      "dtypes: datetime64[ns](5), int64(9), object(10)\n",
      "memory usage: 61.7+ MB\n"
     ]
    }
   ],
   "source": [
    "flights.info()"
   ]
  },
  {
   "cell_type": "code",
   "execution_count": 4,
   "metadata": {},
   "outputs": [
    {
     "data": {
      "text/html": [
       "<div>\n",
       "<style scoped>\n",
       "    .dataframe tbody tr th:only-of-type {\n",
       "        vertical-align: middle;\n",
       "    }\n",
       "\n",
       "    .dataframe tbody tr th {\n",
       "        vertical-align: top;\n",
       "    }\n",
       "\n",
       "    .dataframe thead th {\n",
       "        text-align: right;\n",
       "    }\n",
       "</style>\n",
       "<table border=\"1\" class=\"dataframe\">\n",
       "  <thead>\n",
       "    <tr style=\"text-align: right;\">\n",
       "      <th></th>\n",
       "      <th>year</th>\n",
       "      <th>month</th>\n",
       "      <th>day</th>\n",
       "      <th>dep_time</th>\n",
       "      <th>sched_dep_time</th>\n",
       "      <th>dep_delay</th>\n",
       "      <th>arr_time</th>\n",
       "      <th>sched_arr_time</th>\n",
       "      <th>arr_delay</th>\n",
       "      <th>carrier</th>\n",
       "      <th>...</th>\n",
       "      <th>air_time</th>\n",
       "      <th>distance</th>\n",
       "      <th>hour</th>\n",
       "      <th>minute</th>\n",
       "      <th>time_hour</th>\n",
       "      <th>date</th>\n",
       "      <th>arr_date_time</th>\n",
       "      <th>dep_date_time</th>\n",
       "      <th>sched_arr_date_time</th>\n",
       "      <th>sched_dep_date_time</th>\n",
       "    </tr>\n",
       "  </thead>\n",
       "  <tbody>\n",
       "    <tr>\n",
       "      <th>0</th>\n",
       "      <td>2013</td>\n",
       "      <td>1</td>\n",
       "      <td>1</td>\n",
       "      <td>517</td>\n",
       "      <td>515</td>\n",
       "      <td>2</td>\n",
       "      <td>830</td>\n",
       "      <td>819</td>\n",
       "      <td>11</td>\n",
       "      <td>UA</td>\n",
       "      <td>...</td>\n",
       "      <td>227</td>\n",
       "      <td>1400</td>\n",
       "      <td>5</td>\n",
       "      <td>15</td>\n",
       "      <td>1/1/2013 5:00</td>\n",
       "      <td>2013-01-01</td>\n",
       "      <td>2013-01-01 08:30:00</td>\n",
       "      <td>2013-01-01 05:17:00</td>\n",
       "      <td>2013-01-01 08:19:00</td>\n",
       "      <td>2013-01-01 05:15:00</td>\n",
       "    </tr>\n",
       "    <tr>\n",
       "      <th>1</th>\n",
       "      <td>2013</td>\n",
       "      <td>1</td>\n",
       "      <td>1</td>\n",
       "      <td>533</td>\n",
       "      <td>529</td>\n",
       "      <td>4</td>\n",
       "      <td>850</td>\n",
       "      <td>830</td>\n",
       "      <td>20</td>\n",
       "      <td>UA</td>\n",
       "      <td>...</td>\n",
       "      <td>227</td>\n",
       "      <td>1416</td>\n",
       "      <td>5</td>\n",
       "      <td>29</td>\n",
       "      <td>1/1/2013 5:00</td>\n",
       "      <td>2013-01-01</td>\n",
       "      <td>2013-01-01 08:50:00</td>\n",
       "      <td>2013-01-01 05:33:00</td>\n",
       "      <td>2013-01-01 08:30:00</td>\n",
       "      <td>2013-01-01 05:29:00</td>\n",
       "    </tr>\n",
       "    <tr>\n",
       "      <th>2</th>\n",
       "      <td>2013</td>\n",
       "      <td>1</td>\n",
       "      <td>1</td>\n",
       "      <td>542</td>\n",
       "      <td>540</td>\n",
       "      <td>2</td>\n",
       "      <td>923</td>\n",
       "      <td>850</td>\n",
       "      <td>33</td>\n",
       "      <td>AA</td>\n",
       "      <td>...</td>\n",
       "      <td>160</td>\n",
       "      <td>1089</td>\n",
       "      <td>5</td>\n",
       "      <td>40</td>\n",
       "      <td>1/1/2013 5:00</td>\n",
       "      <td>2013-01-01</td>\n",
       "      <td>2013-01-01 09:23:00</td>\n",
       "      <td>2013-01-01 05:42:00</td>\n",
       "      <td>2013-01-01 08:50:00</td>\n",
       "      <td>2013-01-01 05:40:00</td>\n",
       "    </tr>\n",
       "    <tr>\n",
       "      <th>3</th>\n",
       "      <td>2013</td>\n",
       "      <td>1</td>\n",
       "      <td>1</td>\n",
       "      <td>544</td>\n",
       "      <td>545</td>\n",
       "      <td>-1</td>\n",
       "      <td>1004</td>\n",
       "      <td>1022</td>\n",
       "      <td>-18</td>\n",
       "      <td>B6</td>\n",
       "      <td>...</td>\n",
       "      <td>183</td>\n",
       "      <td>1576</td>\n",
       "      <td>5</td>\n",
       "      <td>45</td>\n",
       "      <td>1/1/2013 5:00</td>\n",
       "      <td>2013-01-01</td>\n",
       "      <td>2013-01-01 10:04:00</td>\n",
       "      <td>2013-01-01 05:44:00</td>\n",
       "      <td>2013-01-01 10:22:00</td>\n",
       "      <td>2013-01-01 05:45:00</td>\n",
       "    </tr>\n",
       "    <tr>\n",
       "      <th>4</th>\n",
       "      <td>2013</td>\n",
       "      <td>1</td>\n",
       "      <td>1</td>\n",
       "      <td>554</td>\n",
       "      <td>600</td>\n",
       "      <td>-6</td>\n",
       "      <td>812</td>\n",
       "      <td>837</td>\n",
       "      <td>-25</td>\n",
       "      <td>DL</td>\n",
       "      <td>...</td>\n",
       "      <td>116</td>\n",
       "      <td>762</td>\n",
       "      <td>6</td>\n",
       "      <td>0</td>\n",
       "      <td>1/1/2013 6:00</td>\n",
       "      <td>2013-01-01</td>\n",
       "      <td>2013-01-01 08:12:00</td>\n",
       "      <td>2013-01-01 05:54:00</td>\n",
       "      <td>2013-01-01 08:37:00</td>\n",
       "      <td>2013-01-01 06:00:00</td>\n",
       "    </tr>\n",
       "  </tbody>\n",
       "</table>\n",
       "<p>5 rows × 24 columns</p>\n",
       "</div>"
      ],
      "text/plain": [
       "   year  month  day dep_time  sched_dep_time dep_delay arr_time  \\\n",
       "0  2013      1    1      517             515         2      830   \n",
       "1  2013      1    1      533             529         4      850   \n",
       "2  2013      1    1      542             540         2      923   \n",
       "3  2013      1    1      544             545        -1     1004   \n",
       "4  2013      1    1      554             600        -6      812   \n",
       "\n",
       "   sched_arr_time arr_delay carrier  ...  air_time distance hour minute  \\\n",
       "0             819        11      UA  ...       227     1400    5     15   \n",
       "1             830        20      UA  ...       227     1416    5     29   \n",
       "2             850        33      AA  ...       160     1089    5     40   \n",
       "3            1022       -18      B6  ...       183     1576    5     45   \n",
       "4             837       -25      DL  ...       116      762    6      0   \n",
       "\n",
       "       time_hour       date       arr_date_time       dep_date_time  \\\n",
       "0  1/1/2013 5:00 2013-01-01 2013-01-01 08:30:00 2013-01-01 05:17:00   \n",
       "1  1/1/2013 5:00 2013-01-01 2013-01-01 08:50:00 2013-01-01 05:33:00   \n",
       "2  1/1/2013 5:00 2013-01-01 2013-01-01 09:23:00 2013-01-01 05:42:00   \n",
       "3  1/1/2013 5:00 2013-01-01 2013-01-01 10:04:00 2013-01-01 05:44:00   \n",
       "4  1/1/2013 6:00 2013-01-01 2013-01-01 08:12:00 2013-01-01 05:54:00   \n",
       "\n",
       "  sched_arr_date_time sched_dep_date_time  \n",
       "0 2013-01-01 08:19:00 2013-01-01 05:15:00  \n",
       "1 2013-01-01 08:30:00 2013-01-01 05:29:00  \n",
       "2 2013-01-01 08:50:00 2013-01-01 05:40:00  \n",
       "3 2013-01-01 10:22:00 2013-01-01 05:45:00  \n",
       "4 2013-01-01 08:37:00 2013-01-01 06:00:00  \n",
       "\n",
       "[5 rows x 24 columns]"
      ]
     },
     "execution_count": 4,
     "metadata": {},
     "output_type": "execute_result"
    }
   ],
   "source": [
    "flights.head()"
   ]
  },
  {
   "cell_type": "markdown",
   "metadata": {},
   "source": [
    "Find all flights that\n",
    "- Had an arrival delay of two or more hours"
   ]
  },
  {
   "cell_type": "code",
   "execution_count": 5,
   "metadata": {},
   "outputs": [
    {
     "data": {
      "text/plain": [
       "(10034, 24)"
      ]
     },
     "execution_count": 5,
     "metadata": {},
     "output_type": "execute_result"
    }
   ],
   "source": [
    "flights.loc[flights.arr_delay.astype(float) > 120].shape"
   ]
  },
  {
   "cell_type": "code",
   "execution_count": 6,
   "metadata": {},
   "outputs": [
    {
     "data": {
      "text/html": [
       "<div>\n",
       "<style scoped>\n",
       "    .dataframe tbody tr th:only-of-type {\n",
       "        vertical-align: middle;\n",
       "    }\n",
       "\n",
       "    .dataframe tbody tr th {\n",
       "        vertical-align: top;\n",
       "    }\n",
       "\n",
       "    .dataframe thead th {\n",
       "        text-align: right;\n",
       "    }\n",
       "</style>\n",
       "<table border=\"1\" class=\"dataframe\">\n",
       "  <thead>\n",
       "    <tr style=\"text-align: right;\">\n",
       "      <th></th>\n",
       "      <th>year</th>\n",
       "      <th>month</th>\n",
       "      <th>day</th>\n",
       "      <th>dep_time</th>\n",
       "      <th>sched_dep_time</th>\n",
       "      <th>dep_delay</th>\n",
       "      <th>arr_time</th>\n",
       "      <th>sched_arr_time</th>\n",
       "      <th>arr_delay</th>\n",
       "      <th>carrier</th>\n",
       "      <th>...</th>\n",
       "      <th>air_time</th>\n",
       "      <th>distance</th>\n",
       "      <th>hour</th>\n",
       "      <th>minute</th>\n",
       "      <th>time_hour</th>\n",
       "      <th>date</th>\n",
       "      <th>arr_date_time</th>\n",
       "      <th>dep_date_time</th>\n",
       "      <th>sched_arr_date_time</th>\n",
       "      <th>sched_dep_date_time</th>\n",
       "    </tr>\n",
       "  </thead>\n",
       "  <tbody>\n",
       "    <tr>\n",
       "      <th>0</th>\n",
       "      <td>2013</td>\n",
       "      <td>1</td>\n",
       "      <td>1</td>\n",
       "      <td>517</td>\n",
       "      <td>515</td>\n",
       "      <td>2</td>\n",
       "      <td>830</td>\n",
       "      <td>819</td>\n",
       "      <td>11</td>\n",
       "      <td>UA</td>\n",
       "      <td>...</td>\n",
       "      <td>227</td>\n",
       "      <td>1400</td>\n",
       "      <td>5</td>\n",
       "      <td>15</td>\n",
       "      <td>1/1/2013 5:00</td>\n",
       "      <td>2013-01-01</td>\n",
       "      <td>2013-01-01 08:30:00</td>\n",
       "      <td>2013-01-01 05:17:00</td>\n",
       "      <td>2013-01-01 08:19:00</td>\n",
       "      <td>2013-01-01 05:15:00</td>\n",
       "    </tr>\n",
       "    <tr>\n",
       "      <th>1</th>\n",
       "      <td>2013</td>\n",
       "      <td>1</td>\n",
       "      <td>1</td>\n",
       "      <td>533</td>\n",
       "      <td>529</td>\n",
       "      <td>4</td>\n",
       "      <td>850</td>\n",
       "      <td>830</td>\n",
       "      <td>20</td>\n",
       "      <td>UA</td>\n",
       "      <td>...</td>\n",
       "      <td>227</td>\n",
       "      <td>1416</td>\n",
       "      <td>5</td>\n",
       "      <td>29</td>\n",
       "      <td>1/1/2013 5:00</td>\n",
       "      <td>2013-01-01</td>\n",
       "      <td>2013-01-01 08:50:00</td>\n",
       "      <td>2013-01-01 05:33:00</td>\n",
       "      <td>2013-01-01 08:30:00</td>\n",
       "      <td>2013-01-01 05:29:00</td>\n",
       "    </tr>\n",
       "    <tr>\n",
       "      <th>2</th>\n",
       "      <td>2013</td>\n",
       "      <td>1</td>\n",
       "      <td>1</td>\n",
       "      <td>542</td>\n",
       "      <td>540</td>\n",
       "      <td>2</td>\n",
       "      <td>923</td>\n",
       "      <td>850</td>\n",
       "      <td>33</td>\n",
       "      <td>AA</td>\n",
       "      <td>...</td>\n",
       "      <td>160</td>\n",
       "      <td>1089</td>\n",
       "      <td>5</td>\n",
       "      <td>40</td>\n",
       "      <td>1/1/2013 5:00</td>\n",
       "      <td>2013-01-01</td>\n",
       "      <td>2013-01-01 09:23:00</td>\n",
       "      <td>2013-01-01 05:42:00</td>\n",
       "      <td>2013-01-01 08:50:00</td>\n",
       "      <td>2013-01-01 05:40:00</td>\n",
       "    </tr>\n",
       "    <tr>\n",
       "      <th>3</th>\n",
       "      <td>2013</td>\n",
       "      <td>1</td>\n",
       "      <td>1</td>\n",
       "      <td>544</td>\n",
       "      <td>545</td>\n",
       "      <td>-1</td>\n",
       "      <td>1004</td>\n",
       "      <td>1022</td>\n",
       "      <td>-18</td>\n",
       "      <td>B6</td>\n",
       "      <td>...</td>\n",
       "      <td>183</td>\n",
       "      <td>1576</td>\n",
       "      <td>5</td>\n",
       "      <td>45</td>\n",
       "      <td>1/1/2013 5:00</td>\n",
       "      <td>2013-01-01</td>\n",
       "      <td>2013-01-01 10:04:00</td>\n",
       "      <td>2013-01-01 05:44:00</td>\n",
       "      <td>2013-01-01 10:22:00</td>\n",
       "      <td>2013-01-01 05:45:00</td>\n",
       "    </tr>\n",
       "    <tr>\n",
       "      <th>4</th>\n",
       "      <td>2013</td>\n",
       "      <td>1</td>\n",
       "      <td>1</td>\n",
       "      <td>554</td>\n",
       "      <td>600</td>\n",
       "      <td>-6</td>\n",
       "      <td>812</td>\n",
       "      <td>837</td>\n",
       "      <td>-25</td>\n",
       "      <td>DL</td>\n",
       "      <td>...</td>\n",
       "      <td>116</td>\n",
       "      <td>762</td>\n",
       "      <td>6</td>\n",
       "      <td>0</td>\n",
       "      <td>1/1/2013 6:00</td>\n",
       "      <td>2013-01-01</td>\n",
       "      <td>2013-01-01 08:12:00</td>\n",
       "      <td>2013-01-01 05:54:00</td>\n",
       "      <td>2013-01-01 08:37:00</td>\n",
       "      <td>2013-01-01 06:00:00</td>\n",
       "    </tr>\n",
       "  </tbody>\n",
       "</table>\n",
       "<p>5 rows × 24 columns</p>\n",
       "</div>"
      ],
      "text/plain": [
       "   year  month  day dep_time  sched_dep_time dep_delay arr_time  \\\n",
       "0  2013      1    1      517             515         2      830   \n",
       "1  2013      1    1      533             529         4      850   \n",
       "2  2013      1    1      542             540         2      923   \n",
       "3  2013      1    1      544             545        -1     1004   \n",
       "4  2013      1    1      554             600        -6      812   \n",
       "\n",
       "   sched_arr_time arr_delay carrier  ...  air_time distance hour minute  \\\n",
       "0             819        11      UA  ...       227     1400    5     15   \n",
       "1             830        20      UA  ...       227     1416    5     29   \n",
       "2             850        33      AA  ...       160     1089    5     40   \n",
       "3            1022       -18      B6  ...       183     1576    5     45   \n",
       "4             837       -25      DL  ...       116      762    6      0   \n",
       "\n",
       "       time_hour       date       arr_date_time       dep_date_time  \\\n",
       "0  1/1/2013 5:00 2013-01-01 2013-01-01 08:30:00 2013-01-01 05:17:00   \n",
       "1  1/1/2013 5:00 2013-01-01 2013-01-01 08:50:00 2013-01-01 05:33:00   \n",
       "2  1/1/2013 5:00 2013-01-01 2013-01-01 09:23:00 2013-01-01 05:42:00   \n",
       "3  1/1/2013 5:00 2013-01-01 2013-01-01 10:04:00 2013-01-01 05:44:00   \n",
       "4  1/1/2013 6:00 2013-01-01 2013-01-01 08:12:00 2013-01-01 05:54:00   \n",
       "\n",
       "  sched_arr_date_time sched_dep_date_time  \n",
       "0 2013-01-01 08:19:00 2013-01-01 05:15:00  \n",
       "1 2013-01-01 08:30:00 2013-01-01 05:29:00  \n",
       "2 2013-01-01 08:50:00 2013-01-01 05:40:00  \n",
       "3 2013-01-01 10:22:00 2013-01-01 05:45:00  \n",
       "4 2013-01-01 08:37:00 2013-01-01 06:00:00  \n",
       "\n",
       "[5 rows x 24 columns]"
      ]
     },
     "execution_count": 6,
     "metadata": {},
     "output_type": "execute_result"
    }
   ],
   "source": [
    "flights.head()"
   ]
  },
  {
   "cell_type": "code",
   "execution_count": 7,
   "metadata": {},
   "outputs": [
    {
     "data": {
      "text/plain": [
       "0         False\n",
       "1         False\n",
       "2         False\n",
       "3         False\n",
       "4         False\n",
       "5         False\n",
       "6         False\n",
       "7         False\n",
       "8         False\n",
       "9         False\n",
       "10        False\n",
       "11        False\n",
       "12        False\n",
       "13        False\n",
       "14        False\n",
       "15        False\n",
       "16        False\n",
       "17        False\n",
       "18        False\n",
       "19        False\n",
       "20        False\n",
       "21        False\n",
       "22        False\n",
       "23        False\n",
       "24        False\n",
       "25        False\n",
       "26        False\n",
       "27        False\n",
       "28        False\n",
       "29        False\n",
       "          ...  \n",
       "336746    False\n",
       "336747    False\n",
       "336748    False\n",
       "336749    False\n",
       "336750    False\n",
       "336751    False\n",
       "336752    False\n",
       "336753    False\n",
       "336754    False\n",
       "336755    False\n",
       "336756    False\n",
       "336757     True\n",
       "336758    False\n",
       "336759    False\n",
       "336760    False\n",
       "336761    False\n",
       "336762    False\n",
       "336763    False\n",
       "336764    False\n",
       "336765    False\n",
       "336766    False\n",
       "336767    False\n",
       "336768    False\n",
       "336769    False\n",
       "336770    False\n",
       "336771    False\n",
       "336772    False\n",
       "336773    False\n",
       "336774    False\n",
       "336775    False\n",
       "Length: 336776, dtype: bool"
      ]
     },
     "execution_count": 7,
     "metadata": {},
     "output_type": "execute_result"
    }
   ],
   "source": [
    "(flights.arr_date_time - flights.sched_arr_date_time) > pd.Timedelta(120, 'm')"
   ]
  },
  {
   "cell_type": "code",
   "execution_count": 8,
   "metadata": {},
   "outputs": [
    {
     "data": {
      "text/plain": [
       "(7474, 24)"
      ]
     },
     "execution_count": 8,
     "metadata": {},
     "output_type": "execute_result"
    }
   ],
   "source": [
    "# must use timedelta for comparisons between time amounts \n",
    "flights.loc[ (flights.arr_date_time - flights.sched_arr_date_time) > pd.Timedelta(120, 'm') ].shape"
   ]
  },
  {
   "cell_type": "code",
   "execution_count": 37,
   "metadata": {},
   "outputs": [
    {
     "name": "stdout",
     "output_type": "stream",
     "text": [
      "0 days 02:00:00\n"
     ]
    }
   ],
   "source": [
    "print(pd.Timedelta(120, 'm')) # 120 min"
   ]
  },
  {
   "cell_type": "markdown",
   "metadata": {},
   "source": [
    "### There is significant mismatch between these two results.\n",
    "\n",
    "Let's explore what could be wrong."
   ]
  },
  {
   "cell_type": "code",
   "execution_count": 9,
   "metadata": {},
   "outputs": [],
   "source": [
    "a = flights.loc[flights.arr_delay.astype(float) > 120].index"
   ]
  },
  {
   "cell_type": "code",
   "execution_count": 10,
   "metadata": {},
   "outputs": [],
   "source": [
    "b = flights.loc[ (flights.arr_date_time - flights.sched_arr_date_time) > pd.Timedelta(120, 'm') ].index"
   ]
  },
  {
   "cell_type": "code",
   "execution_count": 11,
   "metadata": {},
   "outputs": [
    {
     "data": {
      "text/plain": [
       "Int64Index([   119,    151,    218,    268,    447,    470,    498,    512,\n",
       "               609,    639,\n",
       "            ...\n",
       "            335778, 335986, 336207, 336252, 336529, 336579, 336668, 336724,\n",
       "            336757, 336763],\n",
       "           dtype='int64', length=10034)"
      ]
     },
     "execution_count": 11,
     "metadata": {},
     "output_type": "execute_result"
    }
   ],
   "source": [
    "a"
   ]
  },
  {
   "cell_type": "code",
   "execution_count": 12,
   "metadata": {},
   "outputs": [
    {
     "data": {
      "text/plain": [
       "Int64Index([   151,    815,    830,    834,    843,   1755,   1762,   1786,\n",
       "              2682,   2700,\n",
       "            ...\n",
       "            327616, 327644, 329260, 332163, 332176, 333175, 335773, 335777,\n",
       "            335778, 336763],\n",
       "           dtype='int64', length=2979)"
      ]
     },
     "execution_count": 12,
     "metadata": {},
     "output_type": "execute_result"
    }
   ],
   "source": [
    "a.difference(b)"
   ]
  },
  {
   "cell_type": "code",
   "execution_count": 13,
   "metadata": {},
   "outputs": [
    {
     "data": {
      "text/plain": [
       "year                                  2013\n",
       "month                                    1\n",
       "day                                      1\n",
       "dep_time                               848\n",
       "sched_dep_time                        1835\n",
       "dep_delay                              853\n",
       "arr_time                              1001\n",
       "sched_arr_time                        1950\n",
       "arr_delay                              851\n",
       "carrier                                 MQ\n",
       "flight                                3944\n",
       "tailnum                             N942MQ\n",
       "origin                                 JFK\n",
       "dest                                   BWI\n",
       "air_time                                41\n",
       "distance                               184\n",
       "hour                                    18\n",
       "minute                                  35\n",
       "time_hour                   1/1/2013 18:00\n",
       "date                   2013-01-01 00:00:00\n",
       "arr_date_time          2013-01-01 10:01:00\n",
       "dep_date_time          2013-01-01 08:48:00\n",
       "sched_arr_date_time    2013-01-01 19:50:00\n",
       "sched_dep_date_time    2013-01-01 18:35:00\n",
       "Name: 151, dtype: object"
      ]
     },
     "execution_count": 13,
     "metadata": {},
     "output_type": "execute_result"
    }
   ],
   "source": [
    "flights.loc[151]"
   ]
  },
  {
   "cell_type": "markdown",
   "metadata": {},
   "source": [
    "the flight departed the next day, and the full date-time column doesn't reflect this\n"
   ]
  },
  {
   "cell_type": "code",
   "execution_count": 14,
   "metadata": {},
   "outputs": [
    {
     "data": {
      "text/plain": [
       "year                                  2013\n",
       "month                                    1\n",
       "day                                     13\n",
       "dep_time                                10\n",
       "sched_dep_time                        2135\n",
       "dep_delay                              155\n",
       "arr_time                               305\n",
       "sched_arr_time                          36\n",
       "arr_delay                              149\n",
       "carrier                                 B6\n",
       "flight                                  11\n",
       "tailnum                             N595JB\n",
       "origin                                 JFK\n",
       "dest                                   FLL\n",
       "air_time                               144\n",
       "distance                              1069\n",
       "hour                                    21\n",
       "minute                                  35\n",
       "time_hour                  1/13/2013 21:00\n",
       "date                   2013-01-13 00:00:00\n",
       "arr_date_time          2013-01-13 03:05:00\n",
       "dep_date_time                          NaT\n",
       "sched_arr_date_time                    NaT\n",
       "sched_dep_date_time    2013-01-13 21:35:00\n",
       "Name: 10455, dtype: object"
      ]
     },
     "execution_count": 14,
     "metadata": {},
     "output_type": "execute_result"
    }
   ],
   "source": [
    "flights.loc[10455,]"
   ]
  },
  {
   "cell_type": "markdown",
   "metadata": {},
   "source": [
    "I also found this flight, where the csv file says the departure time is '10'.\n",
    "\n",
    "It should have read 00:10, as in 12:10AM, but maybe limitations of the csv export dropped the leading 0s."
   ]
  },
  {
   "cell_type": "code",
   "execution_count": 15,
   "metadata": {},
   "outputs": [
    {
     "data": {
      "text/plain": [
       "array(['a', '', 'c', 'd'], dtype='<U1')"
      ]
     },
     "execution_count": 15,
     "metadata": {},
     "output_type": "execute_result"
    }
   ],
   "source": [
    "a = np.array(['a','','c','d'])\n",
    "a"
   ]
  },
  {
   "cell_type": "code",
   "execution_count": 16,
   "metadata": {},
   "outputs": [
    {
     "data": {
      "text/plain": [
       "array(['a', '100', 'c', 'd'], dtype='<U3')"
      ]
     },
     "execution_count": 16,
     "metadata": {},
     "output_type": "execute_result"
    }
   ],
   "source": [
    "np.where(a == '', '100', a)"
   ]
  },
  {
   "cell_type": "code",
   "execution_count": 17,
   "metadata": {},
   "outputs": [],
   "source": [
    "flights = pd.read_csv('nycflights.csv', dtype = {'dep_time' : object,  \n",
    "                                                 'arr_time' : object, \n",
    "                                                 'air_time' : object})\n",
    "flights['date'] = pd.to_datetime({'year':flights.year, 'month':flights.month, 'day':flights.day})\n",
    "\n",
    "def convert_time(column_name):\n",
    "    the_min = flights[column_name][ flights[column_name].notnull() ].astype(str).str[-2:  ]\n",
    "    the_hr  = flights[column_name][ flights[column_name].notnull() ].astype(str).str[  :-2]\n",
    "    \n",
    "    # this following line says that if the hr extracted from strings is empty, '', \n",
    "    # then replace it with 00, otherwise, use the hr that appears, and preserve the index\n",
    "    the_hr  = pd.Series( np.where(the_hr == '', '00',the_hr) , index = the_hr.index)\n",
    "    \n",
    "    date_time = pd.to_datetime({'year':flights.year, 'month':flights.month, 'day':flights.day, \n",
    "                                'hour': the_hr, 'minute': the_min})\n",
    "    return date_time\n",
    "\n",
    "sched_dep_date_time = convert_time('sched_dep_time')\n",
    "sched_arr_date_time = convert_time('sched_arr_time')\n",
    "\n",
    "dep_date_time       = sched_dep_date_time + pd.to_timedelta(flights.dep_delay, 'm')\n",
    "arr_date_time       = sched_arr_date_time + pd.to_timedelta(flights.arr_delay, 'm')\n",
    "\n",
    "# clean up\n",
    "# if a flight lands on the following day, we need to update that as well\n",
    "# this shows that if the arr_date is before the dep_date, add 24 hours to the arrival times\n",
    "sched_arr_date_time = pd.Series( np.where(sched_arr_date_time < sched_dep_date_time, \n",
    "                                          sched_arr_date_time + pd.Timedelta(24, 'h'), \n",
    "                                          sched_arr_date_time\n",
    "                                         ) , index = sched_arr_date_time.index)\n",
    "arr_date_time = pd.Series( np.where(arr_date_time < dep_date_time,\n",
    "                                    arr_date_time + pd.Timedelta(24, 'h'),\n",
    "                                    arr_date_time) , index = arr_date_time.index)\n",
    "\n",
    "datetimes = pd.concat({'dep_date_time': dep_date_time,\n",
    "           'sched_dep_date_time': sched_dep_date_time, \n",
    "           'arr_date_time':arr_date_time, \n",
    "           'sched_arr_date_time':sched_arr_date_time}, axis = 1)\n",
    "flights = flights.join(datetimes)  # we use the .join() function\n",
    "flights = flights.drop(['year','month','day'], axis = 1)\n",
    "airlines = pd.read_csv('airlines.csv', index_col = 'carrier')"
   ]
  },
  {
   "cell_type": "code",
   "execution_count": 18,
   "metadata": {},
   "outputs": [
    {
     "data": {
      "text/plain": [
       "dep_time                               848\n",
       "sched_dep_time                        1835\n",
       "dep_delay                              853\n",
       "arr_time                              1001\n",
       "sched_arr_time                        1950\n",
       "arr_delay                              851\n",
       "carrier                                 MQ\n",
       "flight                                3944\n",
       "tailnum                             N942MQ\n",
       "origin                                 JFK\n",
       "dest                                   BWI\n",
       "air_time                                41\n",
       "distance                               184\n",
       "hour                                    18\n",
       "minute                                  35\n",
       "time_hour                   1/1/2013 18:00\n",
       "date                   2013-01-01 00:00:00\n",
       "arr_date_time          2013-01-02 10:01:00\n",
       "dep_date_time          2013-01-02 08:48:00\n",
       "sched_arr_date_time    2013-01-01 19:50:00\n",
       "sched_dep_date_time    2013-01-01 18:35:00\n",
       "Name: 151, dtype: object"
      ]
     },
     "execution_count": 18,
     "metadata": {},
     "output_type": "execute_result"
    }
   ],
   "source": [
    "flights.loc[151,]"
   ]
  },
  {
   "cell_type": "code",
   "execution_count": 19,
   "metadata": {},
   "outputs": [
    {
     "data": {
      "text/plain": [
       "dep_time                                10\n",
       "sched_dep_time                        2135\n",
       "dep_delay                              155\n",
       "arr_time                               305\n",
       "sched_arr_time                          36\n",
       "arr_delay                              149\n",
       "carrier                                 B6\n",
       "flight                                  11\n",
       "tailnum                             N595JB\n",
       "origin                                 JFK\n",
       "dest                                   FLL\n",
       "air_time                               144\n",
       "distance                              1069\n",
       "hour                                    21\n",
       "minute                                  35\n",
       "time_hour                  1/13/2013 21:00\n",
       "date                   2013-01-13 00:00:00\n",
       "arr_date_time          2013-01-14 03:05:00\n",
       "dep_date_time          2013-01-14 00:10:00\n",
       "sched_arr_date_time    2013-01-14 00:36:00\n",
       "sched_dep_date_time    2013-01-13 21:35:00\n",
       "Name: 10455, dtype: object"
      ]
     },
     "execution_count": 19,
     "metadata": {},
     "output_type": "execute_result"
    }
   ],
   "source": [
    "flights.loc[10455,]"
   ]
  },
  {
   "cell_type": "markdown",
   "metadata": {},
   "source": [
    "Note to self: maybe we need to check if it is possible for a flight to be delayed over 24 hours (or maybe they all just get cancelled)"
   ]
  },
  {
   "cell_type": "code",
   "execution_count": 20,
   "metadata": {},
   "outputs": [
    {
     "data": {
      "text/plain": [
       "(10034, 21)"
      ]
     },
     "execution_count": 20,
     "metadata": {},
     "output_type": "execute_result"
    }
   ],
   "source": [
    "flights.loc[flights.arr_delay.astype(float) > 120].shape"
   ]
  },
  {
   "cell_type": "code",
   "execution_count": 21,
   "metadata": {},
   "outputs": [
    {
     "data": {
      "text/plain": [
       "(10034, 21)"
      ]
     },
     "execution_count": 21,
     "metadata": {},
     "output_type": "execute_result"
    }
   ],
   "source": [
    "flights.loc[ (flights.arr_date_time - flights.sched_arr_date_time) > pd.Timedelta(120, 'm') ].shape"
   ]
  },
  {
   "cell_type": "markdown",
   "metadata": {},
   "source": [
    "Now our results match!"
   ]
  },
  {
   "cell_type": "markdown",
   "metadata": {},
   "source": [
    "Find all flights that:\n",
    "- Flew to Houston (IAH or HOU)\n",
    "- Were operated by United, American, or Delta\n",
    "- Departed in summer (July, August, and September)\n",
    "- Arrived more than two hours late, but didn’t leave late\n",
    "- Were delayed by at least an hour, but made up over 30 minutes in flight\n",
    "- Departed between midnight and 6am (inclusive)"
   ]
  },
  {
   "cell_type": "code",
   "execution_count": 22,
   "metadata": {},
   "outputs": [
    {
     "data": {
      "text/plain": [
       "(9313, 21)"
      ]
     },
     "execution_count": 22,
     "metadata": {},
     "output_type": "execute_result"
    }
   ],
   "source": [
    "# Flew to Houston (IAH or HOU)\n",
    "flights.loc[ flights.dest.isin(['IAH','HOU']) ].shape"
   ]
  },
  {
   "cell_type": "code",
   "execution_count": 23,
   "metadata": {},
   "outputs": [
    {
     "data": {
      "text/plain": [
       "(139504, 21)"
      ]
     },
     "execution_count": 23,
     "metadata": {},
     "output_type": "execute_result"
    }
   ],
   "source": [
    "# Were operated by United, American, or Delta\n",
    "flights.loc[ flights.carrier.isin(['UA','AA', 'DL']) ].shape"
   ]
  },
  {
   "cell_type": "code",
   "execution_count": 24,
   "metadata": {},
   "outputs": [
    {
     "data": {
      "text/plain": [
       "(84457, 21)"
      ]
     },
     "execution_count": 24,
     "metadata": {},
     "output_type": "execute_result"
    }
   ],
   "source": [
    "# Departed in summer (July, August, and September)\n",
    "flights.loc[ flights.dep_date_time.dt.month.isin([7,8,9]) ].shape"
   ]
  },
  {
   "cell_type": "code",
   "execution_count": 25,
   "metadata": {},
   "outputs": [
    {
     "data": {
      "text/html": [
       "<div>\n",
       "<style scoped>\n",
       "    .dataframe tbody tr th:only-of-type {\n",
       "        vertical-align: middle;\n",
       "    }\n",
       "\n",
       "    .dataframe tbody tr th {\n",
       "        vertical-align: top;\n",
       "    }\n",
       "\n",
       "    .dataframe thead th {\n",
       "        text-align: right;\n",
       "    }\n",
       "</style>\n",
       "<table border=\"1\" class=\"dataframe\">\n",
       "  <thead>\n",
       "    <tr style=\"text-align: right;\">\n",
       "      <th></th>\n",
       "      <th>dep_time</th>\n",
       "      <th>sched_dep_time</th>\n",
       "      <th>dep_delay</th>\n",
       "      <th>arr_time</th>\n",
       "      <th>sched_arr_time</th>\n",
       "      <th>arr_delay</th>\n",
       "      <th>carrier</th>\n",
       "      <th>flight</th>\n",
       "      <th>tailnum</th>\n",
       "      <th>origin</th>\n",
       "      <th>...</th>\n",
       "      <th>air_time</th>\n",
       "      <th>distance</th>\n",
       "      <th>hour</th>\n",
       "      <th>minute</th>\n",
       "      <th>time_hour</th>\n",
       "      <th>date</th>\n",
       "      <th>arr_date_time</th>\n",
       "      <th>dep_date_time</th>\n",
       "      <th>sched_arr_date_time</th>\n",
       "      <th>sched_dep_date_time</th>\n",
       "    </tr>\n",
       "  </thead>\n",
       "  <tbody>\n",
       "    <tr>\n",
       "      <th>22911</th>\n",
       "      <td>1419</td>\n",
       "      <td>1420</td>\n",
       "      <td>-1.0</td>\n",
       "      <td>1754</td>\n",
       "      <td>1550</td>\n",
       "      <td>124.0</td>\n",
       "      <td>MQ</td>\n",
       "      <td>3728</td>\n",
       "      <td>N1EAMQ</td>\n",
       "      <td>EWR</td>\n",
       "      <td>...</td>\n",
       "      <td>135</td>\n",
       "      <td>719</td>\n",
       "      <td>14</td>\n",
       "      <td>20</td>\n",
       "      <td>1/27/2013 14:00</td>\n",
       "      <td>2013-01-27</td>\n",
       "      <td>2013-01-27 17:54:00</td>\n",
       "      <td>2013-01-27 14:19:00</td>\n",
       "      <td>2013-01-27 15:50:00</td>\n",
       "      <td>2013-01-27 14:20:00</td>\n",
       "    </tr>\n",
       "    <tr>\n",
       "      <th>33011</th>\n",
       "      <td>1350</td>\n",
       "      <td>1350</td>\n",
       "      <td>0.0</td>\n",
       "      <td>1736</td>\n",
       "      <td>1526</td>\n",
       "      <td>130.0</td>\n",
       "      <td>EV</td>\n",
       "      <td>5181</td>\n",
       "      <td>N611QX</td>\n",
       "      <td>LGA</td>\n",
       "      <td>...</td>\n",
       "      <td>117</td>\n",
       "      <td>812</td>\n",
       "      <td>13</td>\n",
       "      <td>50</td>\n",
       "      <td>10/7/2013 13:00</td>\n",
       "      <td>2013-10-07</td>\n",
       "      <td>2013-10-07 17:36:00</td>\n",
       "      <td>2013-10-07 13:50:00</td>\n",
       "      <td>2013-10-07 15:26:00</td>\n",
       "      <td>2013-10-07 13:50:00</td>\n",
       "    </tr>\n",
       "    <tr>\n",
       "      <th>33019</th>\n",
       "      <td>1357</td>\n",
       "      <td>1359</td>\n",
       "      <td>-2.0</td>\n",
       "      <td>1858</td>\n",
       "      <td>1654</td>\n",
       "      <td>124.0</td>\n",
       "      <td>AA</td>\n",
       "      <td>1151</td>\n",
       "      <td>N3CMAA</td>\n",
       "      <td>LGA</td>\n",
       "      <td>...</td>\n",
       "      <td>192</td>\n",
       "      <td>1389</td>\n",
       "      <td>13</td>\n",
       "      <td>59</td>\n",
       "      <td>10/7/2013 13:00</td>\n",
       "      <td>2013-10-07</td>\n",
       "      <td>2013-10-07 18:58:00</td>\n",
       "      <td>2013-10-07 13:57:00</td>\n",
       "      <td>2013-10-07 16:54:00</td>\n",
       "      <td>2013-10-07 13:59:00</td>\n",
       "    </tr>\n",
       "    <tr>\n",
       "      <th>41075</th>\n",
       "      <td>657</td>\n",
       "      <td>700</td>\n",
       "      <td>-3.0</td>\n",
       "      <td>1258</td>\n",
       "      <td>1056</td>\n",
       "      <td>122.0</td>\n",
       "      <td>B6</td>\n",
       "      <td>3</td>\n",
       "      <td>N703JB</td>\n",
       "      <td>JFK</td>\n",
       "      <td>...</td>\n",
       "      <td>225</td>\n",
       "      <td>1598</td>\n",
       "      <td>7</td>\n",
       "      <td>0</td>\n",
       "      <td>10/16/2013 7:00</td>\n",
       "      <td>2013-10-16</td>\n",
       "      <td>2013-10-16 12:58:00</td>\n",
       "      <td>2013-10-16 06:57:00</td>\n",
       "      <td>2013-10-16 10:56:00</td>\n",
       "      <td>2013-10-16 07:00:00</td>\n",
       "    </tr>\n",
       "    <tr>\n",
       "      <th>55985</th>\n",
       "      <td>658</td>\n",
       "      <td>700</td>\n",
       "      <td>-2.0</td>\n",
       "      <td>1329</td>\n",
       "      <td>1015</td>\n",
       "      <td>194.0</td>\n",
       "      <td>VX</td>\n",
       "      <td>399</td>\n",
       "      <td>N629VA</td>\n",
       "      <td>JFK</td>\n",
       "      <td>...</td>\n",
       "      <td>336</td>\n",
       "      <td>2475</td>\n",
       "      <td>7</td>\n",
       "      <td>0</td>\n",
       "      <td>11/1/2013 7:00</td>\n",
       "      <td>2013-11-01</td>\n",
       "      <td>2013-11-01 13:29:00</td>\n",
       "      <td>2013-11-01 06:58:00</td>\n",
       "      <td>2013-11-01 10:15:00</td>\n",
       "      <td>2013-11-01 07:00:00</td>\n",
       "    </tr>\n",
       "  </tbody>\n",
       "</table>\n",
       "<p>5 rows × 21 columns</p>\n",
       "</div>"
      ],
      "text/plain": [
       "      dep_time  sched_dep_time  dep_delay arr_time  sched_arr_time  arr_delay  \\\n",
       "22911     1419            1420       -1.0     1754            1550      124.0   \n",
       "33011     1350            1350        0.0     1736            1526      130.0   \n",
       "33019     1357            1359       -2.0     1858            1654      124.0   \n",
       "41075      657             700       -3.0     1258            1056      122.0   \n",
       "55985      658             700       -2.0     1329            1015      194.0   \n",
       "\n",
       "      carrier  flight tailnum origin  ... air_time distance  hour  minute  \\\n",
       "22911      MQ    3728  N1EAMQ    EWR  ...      135      719    14      20   \n",
       "33011      EV    5181  N611QX    LGA  ...      117      812    13      50   \n",
       "33019      AA    1151  N3CMAA    LGA  ...      192     1389    13      59   \n",
       "41075      B6       3  N703JB    JFK  ...      225     1598     7       0   \n",
       "55985      VX     399  N629VA    JFK  ...      336     2475     7       0   \n",
       "\n",
       "             time_hour       date       arr_date_time       dep_date_time  \\\n",
       "22911  1/27/2013 14:00 2013-01-27 2013-01-27 17:54:00 2013-01-27 14:19:00   \n",
       "33011  10/7/2013 13:00 2013-10-07 2013-10-07 17:36:00 2013-10-07 13:50:00   \n",
       "33019  10/7/2013 13:00 2013-10-07 2013-10-07 18:58:00 2013-10-07 13:57:00   \n",
       "41075  10/16/2013 7:00 2013-10-16 2013-10-16 12:58:00 2013-10-16 06:57:00   \n",
       "55985   11/1/2013 7:00 2013-11-01 2013-11-01 13:29:00 2013-11-01 06:58:00   \n",
       "\n",
       "      sched_arr_date_time sched_dep_date_time  \n",
       "22911 2013-01-27 15:50:00 2013-01-27 14:20:00  \n",
       "33011 2013-10-07 15:26:00 2013-10-07 13:50:00  \n",
       "33019 2013-10-07 16:54:00 2013-10-07 13:59:00  \n",
       "41075 2013-10-16 10:56:00 2013-10-16 07:00:00  \n",
       "55985 2013-11-01 10:15:00 2013-11-01 07:00:00  \n",
       "\n",
       "[5 rows x 21 columns]"
      ]
     },
     "execution_count": 25,
     "metadata": {},
     "output_type": "execute_result"
    }
   ],
   "source": [
    "# Arrived more than two hours late, but didn’t leave late\n",
    "# use & for making element-wise boolean comparisons\n",
    "flights.loc[ (flights.arr_delay > 120) & (flights.dep_delay <= 0) ].head()"
   ]
  },
  {
   "cell_type": "code",
   "execution_count": 26,
   "metadata": {},
   "outputs": [
    {
     "data": {
      "text/plain": [
       "(29, 21)"
      ]
     },
     "execution_count": 26,
     "metadata": {},
     "output_type": "execute_result"
    }
   ],
   "source": [
    "flights.loc[ (flights.arr_delay > 120) & (flights.dep_delay <= 0) ].shape"
   ]
  },
  {
   "cell_type": "code",
   "execution_count": 27,
   "metadata": {},
   "outputs": [
    {
     "data": {
      "text/html": [
       "<div>\n",
       "<style scoped>\n",
       "    .dataframe tbody tr th:only-of-type {\n",
       "        vertical-align: middle;\n",
       "    }\n",
       "\n",
       "    .dataframe tbody tr th {\n",
       "        vertical-align: top;\n",
       "    }\n",
       "\n",
       "    .dataframe thead th {\n",
       "        text-align: right;\n",
       "    }\n",
       "</style>\n",
       "<table border=\"1\" class=\"dataframe\">\n",
       "  <thead>\n",
       "    <tr style=\"text-align: right;\">\n",
       "      <th></th>\n",
       "      <th>dep_time</th>\n",
       "      <th>sched_dep_time</th>\n",
       "      <th>dep_delay</th>\n",
       "      <th>arr_time</th>\n",
       "      <th>sched_arr_time</th>\n",
       "      <th>arr_delay</th>\n",
       "      <th>carrier</th>\n",
       "      <th>flight</th>\n",
       "      <th>tailnum</th>\n",
       "      <th>origin</th>\n",
       "      <th>...</th>\n",
       "      <th>air_time</th>\n",
       "      <th>distance</th>\n",
       "      <th>hour</th>\n",
       "      <th>minute</th>\n",
       "      <th>time_hour</th>\n",
       "      <th>date</th>\n",
       "      <th>arr_date_time</th>\n",
       "      <th>dep_date_time</th>\n",
       "      <th>sched_arr_date_time</th>\n",
       "      <th>sched_dep_date_time</th>\n",
       "    </tr>\n",
       "  </thead>\n",
       "  <tbody>\n",
       "    <tr>\n",
       "      <th>593</th>\n",
       "      <td>1716</td>\n",
       "      <td>1545</td>\n",
       "      <td>91.0</td>\n",
       "      <td>2140</td>\n",
       "      <td>2039</td>\n",
       "      <td>61.0</td>\n",
       "      <td>B6</td>\n",
       "      <td>703</td>\n",
       "      <td>N651JB</td>\n",
       "      <td>JFK</td>\n",
       "      <td>...</td>\n",
       "      <td>183</td>\n",
       "      <td>1598</td>\n",
       "      <td>15</td>\n",
       "      <td>45</td>\n",
       "      <td>1/1/2013 15:00</td>\n",
       "      <td>2013-01-01</td>\n",
       "      <td>2013-01-01 21:40:00</td>\n",
       "      <td>2013-01-01 17:16:00</td>\n",
       "      <td>2013-01-01 20:39:00</td>\n",
       "      <td>2013-01-01 15:45:00</td>\n",
       "    </tr>\n",
       "    <tr>\n",
       "      <th>815</th>\n",
       "      <td>2205</td>\n",
       "      <td>1720</td>\n",
       "      <td>285.0</td>\n",
       "      <td>46</td>\n",
       "      <td>2040</td>\n",
       "      <td>246.0</td>\n",
       "      <td>AA</td>\n",
       "      <td>1999</td>\n",
       "      <td>N5DNAA</td>\n",
       "      <td>EWR</td>\n",
       "      <td>...</td>\n",
       "      <td>146</td>\n",
       "      <td>1085</td>\n",
       "      <td>17</td>\n",
       "      <td>20</td>\n",
       "      <td>1/1/2013 17:00</td>\n",
       "      <td>2013-01-01</td>\n",
       "      <td>2013-01-02 00:46:00</td>\n",
       "      <td>2013-01-01 22:05:00</td>\n",
       "      <td>2013-01-01 20:40:00</td>\n",
       "      <td>2013-01-01 17:20:00</td>\n",
       "    </tr>\n",
       "    <tr>\n",
       "      <th>832</th>\n",
       "      <td>2326</td>\n",
       "      <td>2130</td>\n",
       "      <td>116.0</td>\n",
       "      <td>131</td>\n",
       "      <td>18</td>\n",
       "      <td>73.0</td>\n",
       "      <td>B6</td>\n",
       "      <td>199</td>\n",
       "      <td>N594JB</td>\n",
       "      <td>JFK</td>\n",
       "      <td>...</td>\n",
       "      <td>290</td>\n",
       "      <td>2248</td>\n",
       "      <td>21</td>\n",
       "      <td>30</td>\n",
       "      <td>1/1/2013 21:00</td>\n",
       "      <td>2013-01-01</td>\n",
       "      <td>2013-01-02 01:31:00</td>\n",
       "      <td>2013-01-01 23:26:00</td>\n",
       "      <td>2013-01-02 00:18:00</td>\n",
       "      <td>2013-01-01 21:30:00</td>\n",
       "    </tr>\n",
       "    <tr>\n",
       "      <th>2286</th>\n",
       "      <td>1503</td>\n",
       "      <td>1221</td>\n",
       "      <td>162.0</td>\n",
       "      <td>1803</td>\n",
       "      <td>1555</td>\n",
       "      <td>128.0</td>\n",
       "      <td>UA</td>\n",
       "      <td>551</td>\n",
       "      <td>N835UA</td>\n",
       "      <td>EWR</td>\n",
       "      <td>...</td>\n",
       "      <td>320</td>\n",
       "      <td>2565</td>\n",
       "      <td>12</td>\n",
       "      <td>21</td>\n",
       "      <td>1/3/2013 12:00</td>\n",
       "      <td>2013-01-03</td>\n",
       "      <td>2013-01-03 18:03:00</td>\n",
       "      <td>2013-01-03 15:03:00</td>\n",
       "      <td>2013-01-03 15:55:00</td>\n",
       "      <td>2013-01-03 12:21:00</td>\n",
       "    </tr>\n",
       "    <tr>\n",
       "      <th>2495</th>\n",
       "      <td>1821</td>\n",
       "      <td>1530</td>\n",
       "      <td>171.0</td>\n",
       "      <td>2131</td>\n",
       "      <td>1910</td>\n",
       "      <td>141.0</td>\n",
       "      <td>AA</td>\n",
       "      <td>85</td>\n",
       "      <td>N357AA</td>\n",
       "      <td>JFK</td>\n",
       "      <td>...</td>\n",
       "      <td>328</td>\n",
       "      <td>2586</td>\n",
       "      <td>15</td>\n",
       "      <td>30</td>\n",
       "      <td>1/3/2013 15:00</td>\n",
       "      <td>2013-01-03</td>\n",
       "      <td>2013-01-03 21:31:00</td>\n",
       "      <td>2013-01-03 18:21:00</td>\n",
       "      <td>2013-01-03 19:10:00</td>\n",
       "      <td>2013-01-03 15:30:00</td>\n",
       "    </tr>\n",
       "  </tbody>\n",
       "</table>\n",
       "<p>5 rows × 21 columns</p>\n",
       "</div>"
      ],
      "text/plain": [
       "     dep_time  sched_dep_time  dep_delay arr_time  sched_arr_time  arr_delay  \\\n",
       "593      1716            1545       91.0     2140            2039       61.0   \n",
       "815      2205            1720      285.0       46            2040      246.0   \n",
       "832      2326            2130      116.0      131              18       73.0   \n",
       "2286     1503            1221      162.0     1803            1555      128.0   \n",
       "2495     1821            1530      171.0     2131            1910      141.0   \n",
       "\n",
       "     carrier  flight tailnum origin  ... air_time distance  hour  minute  \\\n",
       "593       B6     703  N651JB    JFK  ...      183     1598    15      45   \n",
       "815       AA    1999  N5DNAA    EWR  ...      146     1085    17      20   \n",
       "832       B6     199  N594JB    JFK  ...      290     2248    21      30   \n",
       "2286      UA     551  N835UA    EWR  ...      320     2565    12      21   \n",
       "2495      AA      85  N357AA    JFK  ...      328     2586    15      30   \n",
       "\n",
       "           time_hour       date       arr_date_time       dep_date_time  \\\n",
       "593   1/1/2013 15:00 2013-01-01 2013-01-01 21:40:00 2013-01-01 17:16:00   \n",
       "815   1/1/2013 17:00 2013-01-01 2013-01-02 00:46:00 2013-01-01 22:05:00   \n",
       "832   1/1/2013 21:00 2013-01-01 2013-01-02 01:31:00 2013-01-01 23:26:00   \n",
       "2286  1/3/2013 12:00 2013-01-03 2013-01-03 18:03:00 2013-01-03 15:03:00   \n",
       "2495  1/3/2013 15:00 2013-01-03 2013-01-03 21:31:00 2013-01-03 18:21:00   \n",
       "\n",
       "     sched_arr_date_time sched_dep_date_time  \n",
       "593  2013-01-01 20:39:00 2013-01-01 15:45:00  \n",
       "815  2013-01-01 20:40:00 2013-01-01 17:20:00  \n",
       "832  2013-01-02 00:18:00 2013-01-01 21:30:00  \n",
       "2286 2013-01-03 15:55:00 2013-01-03 12:21:00  \n",
       "2495 2013-01-03 19:10:00 2013-01-03 15:30:00  \n",
       "\n",
       "[5 rows x 21 columns]"
      ]
     },
     "execution_count": 27,
     "metadata": {},
     "output_type": "execute_result"
    }
   ],
   "source": [
    "# Were delayed by at least an hour, but made up over 30 minutes in flight\n",
    "\n",
    "flights.loc[ (flights.dep_delay >= 60) & (flights.arr_delay <= flights.dep_delay - 30) ].head()"
   ]
  },
  {
   "cell_type": "code",
   "execution_count": 28,
   "metadata": {},
   "outputs": [
    {
     "data": {
      "text/plain": [
       "(2074, 21)"
      ]
     },
     "execution_count": 28,
     "metadata": {},
     "output_type": "execute_result"
    }
   ],
   "source": [
    "flights.loc[ (flights.dep_delay >= 60) & (flights.arr_delay <= flights.dep_delay - 30) ].shape"
   ]
  },
  {
   "cell_type": "code",
   "execution_count": 29,
   "metadata": {},
   "outputs": [
    {
     "data": {
      "text/plain": [
       "(8759, 21)"
      ]
     },
     "execution_count": 29,
     "metadata": {},
     "output_type": "execute_result"
    }
   ],
   "source": [
    "# Departed between midnight and 5:59am\n",
    "\n",
    "flights.loc[  flights.dep_date_time.dt.hour.between(0,5)  ].shape"
   ]
  },
  {
   "cell_type": "markdown",
   "metadata": {},
   "source": [
    "### Which day of the week is busiest?"
   ]
  },
  {
   "cell_type": "code",
   "execution_count": 30,
   "metadata": {},
   "outputs": [
    {
     "data": {
      "text/plain": [
       "0.0    49445\n",
       "1.0    49354\n",
       "2.0    48813\n",
       "3.0    48598\n",
       "4.0    48732\n",
       "5.0    38033\n",
       "6.0    45546\n",
       "Name: date, dtype: int64"
      ]
     },
     "execution_count": 30,
     "metadata": {},
     "output_type": "execute_result"
    }
   ],
   "source": [
    "w = flights.groupby(dep_date_time.dt.weekday).date.count()  # monday = 0, sunday = 6\n",
    "# produces a series\n",
    "w"
   ]
  },
  {
   "cell_type": "code",
   "execution_count": 31,
   "metadata": {},
   "outputs": [
    {
     "data": {
      "text/plain": [
       "Float64Index([0.0, 1.0, 2.0, 3.0, 4.0, 5.0, 6.0], dtype='float64')"
      ]
     },
     "execution_count": 31,
     "metadata": {},
     "output_type": "execute_result"
    }
   ],
   "source": [
    "w.index"
   ]
  },
  {
   "cell_type": "code",
   "execution_count": 32,
   "metadata": {},
   "outputs": [
    {
     "data": {
      "text/html": [
       "<div>\n",
       "<style scoped>\n",
       "    .dataframe tbody tr th:only-of-type {\n",
       "        vertical-align: middle;\n",
       "    }\n",
       "\n",
       "    .dataframe tbody tr th {\n",
       "        vertical-align: top;\n",
       "    }\n",
       "\n",
       "    .dataframe thead th {\n",
       "        text-align: right;\n",
       "    }\n",
       "</style>\n",
       "<table border=\"1\" class=\"dataframe\">\n",
       "  <thead>\n",
       "    <tr style=\"text-align: right;\">\n",
       "      <th></th>\n",
       "      <th>date</th>\n",
       "    </tr>\n",
       "  </thead>\n",
       "  <tbody>\n",
       "    <tr>\n",
       "      <th>Mon</th>\n",
       "      <td>49445</td>\n",
       "    </tr>\n",
       "    <tr>\n",
       "      <th>Tue</th>\n",
       "      <td>49354</td>\n",
       "    </tr>\n",
       "    <tr>\n",
       "      <th>Wed</th>\n",
       "      <td>48813</td>\n",
       "    </tr>\n",
       "    <tr>\n",
       "      <th>Thu</th>\n",
       "      <td>48598</td>\n",
       "    </tr>\n",
       "    <tr>\n",
       "      <th>Fri</th>\n",
       "      <td>48732</td>\n",
       "    </tr>\n",
       "    <tr>\n",
       "      <th>Sat</th>\n",
       "      <td>38033</td>\n",
       "    </tr>\n",
       "    <tr>\n",
       "      <th>Sun</th>\n",
       "      <td>45546</td>\n",
       "    </tr>\n",
       "  </tbody>\n",
       "</table>\n",
       "</div>"
      ],
      "text/plain": [
       "      date\n",
       "Mon  49445\n",
       "Tue  49354\n",
       "Wed  48813\n",
       "Thu  48598\n",
       "Fri  48732\n",
       "Sat  38033\n",
       "Sun  45546"
      ]
     },
     "execution_count": 32,
     "metadata": {},
     "output_type": "execute_result"
    }
   ],
   "source": [
    "d = pd.DataFrame(w)\n",
    "# rename the index of a dataframe with a dictionary\n",
    "d.rename({0:'Mon', 1:'Tue',2:'Wed',3:'Thu',4:'Fri',5:'Sat',6:'Sun'}, axis = 'index', inplace = True)\n",
    "d"
   ]
  },
  {
   "cell_type": "code",
   "execution_count": 33,
   "metadata": {},
   "outputs": [
    {
     "data": {
      "image/png": "[encoded data removed]",
      "text/plain": [
       "<Figure size 432x288 with 1 Axes>"
      ]
     },
     "metadata": {
      "needs_background": "light"
     },
     "output_type": "display_data"
    }
   ],
   "source": [
    "d.plot(kind = 'bar', color = 'dodgerblue')\n",
    "plt.show()"
   ]
  },
  {
   "cell_type": "code",
   "execution_count": 34,
   "metadata": {},
   "outputs": [
    {
     "data": {
      "text/plain": [
       "Friday       48732\n",
       "Monday       49445\n",
       "Saturday     38033\n",
       "Sunday       45546\n",
       "Thursday     48598\n",
       "Tuesday      49354\n",
       "Wednesday    48813\n",
       "Name: date, dtype: int64"
      ]
     },
     "execution_count": 34,
     "metadata": {},
     "output_type": "execute_result"
    }
   ],
   "source": [
    "flights.groupby(dep_date_time.dt.weekday_name).date.count()\n",
    "# by default it sorts alphabetically"
   ]
  },
  {
   "cell_type": "code",
   "execution_count": 35,
   "metadata": {},
   "outputs": [
    {
     "ename": "Error",
     "evalue": "unsupported locale setting",
     "output_type": "error",
     "traceback": [
      "\u001b[0;31m---------------------------------------------------------------------------\u001b[0m",
      "\u001b[0;31mError\u001b[0m                                     Traceback (most recent call last)",
      "\u001b[0;32m<ipython-input-35-4f7992f18256>\u001b[0m in \u001b[0;36m<module>\u001b[0;34m\u001b[0m\n\u001b[0;32m----> 1\u001b[0;31m \u001b[0mflights\u001b[0m\u001b[0;34m.\u001b[0m\u001b[0mgroupby\u001b[0m\u001b[0;34m(\u001b[0m\u001b[0mdep_date_time\u001b[0m\u001b[0;34m.\u001b[0m\u001b[0mdt\u001b[0m\u001b[0;34m.\u001b[0m\u001b[0mday_name\u001b[0m\u001b[0;34m(\u001b[0m\u001b[0;34m'es'\u001b[0m\u001b[0;34m)\u001b[0m\u001b[0;34m)\u001b[0m\u001b[0;34m.\u001b[0m\u001b[0mdate\u001b[0m\u001b[0;34m.\u001b[0m\u001b[0mcount\u001b[0m\u001b[0;34m(\u001b[0m\u001b[0;34m)\u001b[0m  \u001b[0;31m# I later learned of day_name()\u001b[0m\u001b[0;34m\u001b[0m\u001b[0;34m\u001b[0m\u001b[0m\n\u001b[0m\u001b[1;32m      2\u001b[0m \u001b[0;31m# you need to specify the language to use\u001b[0m\u001b[0;34m\u001b[0m\u001b[0;34m\u001b[0m\u001b[0;34m\u001b[0m\u001b[0m\n",
      "\u001b[0;32m~/anaconda3/lib/python3.7/site-packages/pandas/core/accessor.py\u001b[0m in \u001b[0;36mf\u001b[0;34m(self, *args, **kwargs)\u001b[0m\n\u001b[1;32m     89\u001b[0m \u001b[0;34m\u001b[0m\u001b[0m\n\u001b[1;32m     90\u001b[0m             \u001b[0;32mdef\u001b[0m \u001b[0mf\u001b[0m\u001b[0;34m(\u001b[0m\u001b[0mself\u001b[0m\u001b[0;34m,\u001b[0m \u001b[0;34m*\u001b[0m\u001b[0margs\u001b[0m\u001b[0;34m,\u001b[0m \u001b[0;34m**\u001b[0m\u001b[0mkwargs\u001b[0m\u001b[0;34m)\u001b[0m\u001b[0;34m:\u001b[0m\u001b[0;34m\u001b[0m\u001b[0;34m\u001b[0m\u001b[0m\n\u001b[0;32m---> 91\u001b[0;31m                 \u001b[0;32mreturn\u001b[0m \u001b[0mself\u001b[0m\u001b[0;34m.\u001b[0m\u001b[0m_delegate_method\u001b[0m\u001b[0;34m(\u001b[0m\u001b[0mname\u001b[0m\u001b[0;34m,\u001b[0m \u001b[0;34m*\u001b[0m\u001b[0margs\u001b[0m\u001b[0;34m,\u001b[0m \u001b[0;34m**\u001b[0m\u001b[0mkwargs\u001b[0m\u001b[0;34m)\u001b[0m\u001b[0;34m\u001b[0m\u001b[0;34m\u001b[0m\u001b[0m\n\u001b[0m\u001b[1;32m     92\u001b[0m \u001b[0;34m\u001b[0m\u001b[0m\n\u001b[1;32m     93\u001b[0m             \u001b[0mf\u001b[0m\u001b[0;34m.\u001b[0m\u001b[0m__name__\u001b[0m \u001b[0;34m=\u001b[0m \u001b[0mname\u001b[0m\u001b[0;34m\u001b[0m\u001b[0;34m\u001b[0m\u001b[0m\n",
      "\u001b[0;32m~/anaconda3/lib/python3.7/site-packages/pandas/core/indexes/accessors.py\u001b[0m in \u001b[0;36m_delegate_method\u001b[0;34m(self, name, *args, **kwargs)\u001b[0m\n\u001b[1;32m     92\u001b[0m \u001b[0;34m\u001b[0m\u001b[0m\n\u001b[1;32m     93\u001b[0m         \u001b[0mmethod\u001b[0m \u001b[0;34m=\u001b[0m \u001b[0mgetattr\u001b[0m\u001b[0;34m(\u001b[0m\u001b[0mvalues\u001b[0m\u001b[0;34m,\u001b[0m \u001b[0mname\u001b[0m\u001b[0;34m)\u001b[0m\u001b[0;34m\u001b[0m\u001b[0;34m\u001b[0m\u001b[0m\n\u001b[0;32m---> 94\u001b[0;31m         \u001b[0mresult\u001b[0m \u001b[0;34m=\u001b[0m \u001b[0mmethod\u001b[0m\u001b[0;34m(\u001b[0m\u001b[0;34m*\u001b[0m\u001b[0margs\u001b[0m\u001b[0;34m,\u001b[0m \u001b[0;34m**\u001b[0m\u001b[0mkwargs\u001b[0m\u001b[0;34m)\u001b[0m\u001b[0;34m\u001b[0m\u001b[0;34m\u001b[0m\u001b[0m\n\u001b[0m\u001b[1;32m     95\u001b[0m \u001b[0;34m\u001b[0m\u001b[0m\n\u001b[1;32m     96\u001b[0m         \u001b[0;32mif\u001b[0m \u001b[0;32mnot\u001b[0m \u001b[0mis_list_like\u001b[0m\u001b[0;34m(\u001b[0m\u001b[0mresult\u001b[0m\u001b[0;34m)\u001b[0m\u001b[0;34m:\u001b[0m\u001b[0;34m\u001b[0m\u001b[0;34m\u001b[0m\u001b[0m\n",
      "\u001b[0;32m~/anaconda3/lib/python3.7/site-packages/pandas/core/accessor.py\u001b[0m in \u001b[0;36mf\u001b[0;34m(self, *args, **kwargs)\u001b[0m\n\u001b[1;32m     89\u001b[0m \u001b[0;34m\u001b[0m\u001b[0m\n\u001b[1;32m     90\u001b[0m             \u001b[0;32mdef\u001b[0m \u001b[0mf\u001b[0m\u001b[0;34m(\u001b[0m\u001b[0mself\u001b[0m\u001b[0;34m,\u001b[0m \u001b[0;34m*\u001b[0m\u001b[0margs\u001b[0m\u001b[0;34m,\u001b[0m \u001b[0;34m**\u001b[0m\u001b[0mkwargs\u001b[0m\u001b[0;34m)\u001b[0m\u001b[0;34m:\u001b[0m\u001b[0;34m\u001b[0m\u001b[0;34m\u001b[0m\u001b[0m\n\u001b[0;32m---> 91\u001b[0;31m                 \u001b[0;32mreturn\u001b[0m \u001b[0mself\u001b[0m\u001b[0;34m.\u001b[0m\u001b[0m_delegate_method\u001b[0m\u001b[0;34m(\u001b[0m\u001b[0mname\u001b[0m\u001b[0;34m,\u001b[0m \u001b[0;34m*\u001b[0m\u001b[0margs\u001b[0m\u001b[0;34m,\u001b[0m \u001b[0;34m**\u001b[0m\u001b[0mkwargs\u001b[0m\u001b[0;34m)\u001b[0m\u001b[0;34m\u001b[0m\u001b[0;34m\u001b[0m\u001b[0m\n\u001b[0m\u001b[1;32m     92\u001b[0m \u001b[0;34m\u001b[0m\u001b[0m\n\u001b[1;32m     93\u001b[0m             \u001b[0mf\u001b[0m\u001b[0;34m.\u001b[0m\u001b[0m__name__\u001b[0m \u001b[0;34m=\u001b[0m \u001b[0mname\u001b[0m\u001b[0;34m\u001b[0m\u001b[0;34m\u001b[0m\u001b[0m\n",
      "\u001b[0;32m~/anaconda3/lib/python3.7/site-packages/pandas/core/indexes/datetimelike.py\u001b[0m in \u001b[0;36m_delegate_method\u001b[0;34m(self, name, *args, **kwargs)\u001b[0m\n\u001b[1;32m    719\u001b[0m \u001b[0;34m\u001b[0m\u001b[0m\n\u001b[1;32m    720\u001b[0m     \u001b[0;32mdef\u001b[0m \u001b[0m_delegate_method\u001b[0m\u001b[0;34m(\u001b[0m\u001b[0mself\u001b[0m\u001b[0;34m,\u001b[0m \u001b[0mname\u001b[0m\u001b[0;34m,\u001b[0m \u001b[0;34m*\u001b[0m\u001b[0margs\u001b[0m\u001b[0;34m,\u001b[0m \u001b[0;34m**\u001b[0m\u001b[0mkwargs\u001b[0m\u001b[0;34m)\u001b[0m\u001b[0;34m:\u001b[0m\u001b[0;34m\u001b[0m\u001b[0;34m\u001b[0m\u001b[0m\n\u001b[0;32m--> 721\u001b[0;31m         \u001b[0mresult\u001b[0m \u001b[0;34m=\u001b[0m \u001b[0moperator\u001b[0m\u001b[0;34m.\u001b[0m\u001b[0mmethodcaller\u001b[0m\u001b[0;34m(\u001b[0m\u001b[0mname\u001b[0m\u001b[0;34m,\u001b[0m \u001b[0;34m*\u001b[0m\u001b[0margs\u001b[0m\u001b[0;34m,\u001b[0m \u001b[0;34m**\u001b[0m\u001b[0mkwargs\u001b[0m\u001b[0;34m)\u001b[0m\u001b[0;34m(\u001b[0m\u001b[0mself\u001b[0m\u001b[0;34m.\u001b[0m\u001b[0m_data\u001b[0m\u001b[0;34m)\u001b[0m\u001b[0;34m\u001b[0m\u001b[0;34m\u001b[0m\u001b[0m\n\u001b[0m\u001b[1;32m    722\u001b[0m         \u001b[0;32mif\u001b[0m \u001b[0mname\u001b[0m \u001b[0;32mnot\u001b[0m \u001b[0;32min\u001b[0m \u001b[0mself\u001b[0m\u001b[0;34m.\u001b[0m\u001b[0m_raw_methods\u001b[0m\u001b[0;34m:\u001b[0m\u001b[0;34m\u001b[0m\u001b[0;34m\u001b[0m\u001b[0m\n\u001b[1;32m    723\u001b[0m             \u001b[0mresult\u001b[0m \u001b[0;34m=\u001b[0m \u001b[0mIndex\u001b[0m\u001b[0;34m(\u001b[0m\u001b[0mresult\u001b[0m\u001b[0;34m,\u001b[0m \u001b[0mname\u001b[0m\u001b[0;34m=\u001b[0m\u001b[0mself\u001b[0m\u001b[0;34m.\u001b[0m\u001b[0mname\u001b[0m\u001b[0;34m)\u001b[0m\u001b[0;34m\u001b[0m\u001b[0;34m\u001b[0m\u001b[0m\n",
      "\u001b[0;32m~/anaconda3/lib/python3.7/site-packages/pandas/core/arrays/datetimes.py\u001b[0m in \u001b[0;36mday_name\u001b[0;34m(self, locale)\u001b[0m\n\u001b[1;32m   1274\u001b[0m \u001b[0;34m\u001b[0m\u001b[0m\n\u001b[1;32m   1275\u001b[0m         result = fields.get_date_name_field(values, 'day_name',\n\u001b[0;32m-> 1276\u001b[0;31m                                             locale=locale)\n\u001b[0m\u001b[1;32m   1277\u001b[0m         \u001b[0mresult\u001b[0m \u001b[0;34m=\u001b[0m \u001b[0mself\u001b[0m\u001b[0;34m.\u001b[0m\u001b[0m_maybe_mask_results\u001b[0m\u001b[0;34m(\u001b[0m\u001b[0mresult\u001b[0m\u001b[0;34m,\u001b[0m \u001b[0mfill_value\u001b[0m\u001b[0;34m=\u001b[0m\u001b[0;32mNone\u001b[0m\u001b[0;34m)\u001b[0m\u001b[0;34m\u001b[0m\u001b[0;34m\u001b[0m\u001b[0m\n\u001b[1;32m   1278\u001b[0m         \u001b[0;32mreturn\u001b[0m \u001b[0mresult\u001b[0m\u001b[0;34m\u001b[0m\u001b[0;34m\u001b[0m\u001b[0m\n",
      "\u001b[0;32mpandas/_libs/tslibs/fields.pyx\u001b[0m in \u001b[0;36mpandas._libs.tslibs.fields.get_date_name_field\u001b[0;34m()\u001b[0m\n",
      "\u001b[0;32mpandas/_libs/tslibs/ccalendar.pyx\u001b[0m in \u001b[0;36mpandas._libs.tslibs.ccalendar.get_locale_names\u001b[0;34m()\u001b[0m\n",
      "\u001b[0;32mpandas/_libs/tslibs/ccalendar.pyx\u001b[0m in \u001b[0;36mpandas._libs.tslibs.ccalendar.get_locale_names\u001b[0;34m()\u001b[0m\n",
      "\u001b[0;32m~/anaconda3/lib/python3.7/contextlib.py\u001b[0m in \u001b[0;36m__enter__\u001b[0;34m(self)\u001b[0m\n\u001b[1;32m    110\u001b[0m         \u001b[0;32mdel\u001b[0m \u001b[0mself\u001b[0m\u001b[0;34m.\u001b[0m\u001b[0margs\u001b[0m\u001b[0;34m,\u001b[0m \u001b[0mself\u001b[0m\u001b[0;34m.\u001b[0m\u001b[0mkwds\u001b[0m\u001b[0;34m,\u001b[0m \u001b[0mself\u001b[0m\u001b[0;34m.\u001b[0m\u001b[0mfunc\u001b[0m\u001b[0;34m\u001b[0m\u001b[0;34m\u001b[0m\u001b[0m\n\u001b[1;32m    111\u001b[0m         \u001b[0;32mtry\u001b[0m\u001b[0;34m:\u001b[0m\u001b[0;34m\u001b[0m\u001b[0;34m\u001b[0m\u001b[0m\n\u001b[0;32m--> 112\u001b[0;31m             \u001b[0;32mreturn\u001b[0m \u001b[0mnext\u001b[0m\u001b[0;34m(\u001b[0m\u001b[0mself\u001b[0m\u001b[0;34m.\u001b[0m\u001b[0mgen\u001b[0m\u001b[0;34m)\u001b[0m\u001b[0;34m\u001b[0m\u001b[0;34m\u001b[0m\u001b[0m\n\u001b[0m\u001b[1;32m    113\u001b[0m         \u001b[0;32mexcept\u001b[0m \u001b[0mStopIteration\u001b[0m\u001b[0;34m:\u001b[0m\u001b[0;34m\u001b[0m\u001b[0;34m\u001b[0m\u001b[0m\n\u001b[1;32m    114\u001b[0m             \u001b[0;32mraise\u001b[0m \u001b[0mRuntimeError\u001b[0m\u001b[0;34m(\u001b[0m\u001b[0;34m\"generator didn't yield\"\u001b[0m\u001b[0;34m)\u001b[0m \u001b[0;32mfrom\u001b[0m \u001b[0;32mNone\u001b[0m\u001b[0;34m\u001b[0m\u001b[0;34m\u001b[0m\u001b[0m\n",
      "\u001b[0;32m~/anaconda3/lib/python3.7/site-packages/pandas/util/testing.py\u001b[0m in \u001b[0;36mset_locale\u001b[0;34m(new_locale, lc_var)\u001b[0m\n\u001b[1;32m    551\u001b[0m \u001b[0;34m\u001b[0m\u001b[0m\n\u001b[1;32m    552\u001b[0m     \u001b[0;32mtry\u001b[0m\u001b[0;34m:\u001b[0m\u001b[0;34m\u001b[0m\u001b[0;34m\u001b[0m\u001b[0m\n\u001b[0;32m--> 553\u001b[0;31m         \u001b[0mlocale\u001b[0m\u001b[0;34m.\u001b[0m\u001b[0msetlocale\u001b[0m\u001b[0;34m(\u001b[0m\u001b[0mlc_var\u001b[0m\u001b[0;34m,\u001b[0m \u001b[0mnew_locale\u001b[0m\u001b[0;34m)\u001b[0m\u001b[0;34m\u001b[0m\u001b[0;34m\u001b[0m\u001b[0m\n\u001b[0m\u001b[1;32m    554\u001b[0m         \u001b[0mnormalized_locale\u001b[0m \u001b[0;34m=\u001b[0m \u001b[0mlocale\u001b[0m\u001b[0;34m.\u001b[0m\u001b[0mgetlocale\u001b[0m\u001b[0;34m(\u001b[0m\u001b[0;34m)\u001b[0m\u001b[0;34m\u001b[0m\u001b[0;34m\u001b[0m\u001b[0m\n\u001b[1;32m    555\u001b[0m         \u001b[0;32mif\u001b[0m \u001b[0mcom\u001b[0m\u001b[0;34m.\u001b[0m\u001b[0m_all_not_none\u001b[0m\u001b[0;34m(\u001b[0m\u001b[0;34m*\u001b[0m\u001b[0mnormalized_locale\u001b[0m\u001b[0;34m)\u001b[0m\u001b[0;34m:\u001b[0m\u001b[0;34m\u001b[0m\u001b[0;34m\u001b[0m\u001b[0m\n",
      "\u001b[0;32m~/anaconda3/lib/python3.7/locale.py\u001b[0m in \u001b[0;36msetlocale\u001b[0;34m(category, locale)\u001b[0m\n\u001b[1;32m    602\u001b[0m         \u001b[0;31m# convert to string\u001b[0m\u001b[0;34m\u001b[0m\u001b[0;34m\u001b[0m\u001b[0;34m\u001b[0m\u001b[0m\n\u001b[1;32m    603\u001b[0m         \u001b[0mlocale\u001b[0m \u001b[0;34m=\u001b[0m \u001b[0mnormalize\u001b[0m\u001b[0;34m(\u001b[0m\u001b[0m_build_localename\u001b[0m\u001b[0;34m(\u001b[0m\u001b[0mlocale\u001b[0m\u001b[0;34m)\u001b[0m\u001b[0;34m)\u001b[0m\u001b[0;34m\u001b[0m\u001b[0;34m\u001b[0m\u001b[0m\n\u001b[0;32m--> 604\u001b[0;31m     \u001b[0;32mreturn\u001b[0m \u001b[0m_setlocale\u001b[0m\u001b[0;34m(\u001b[0m\u001b[0mcategory\u001b[0m\u001b[0;34m,\u001b[0m \u001b[0mlocale\u001b[0m\u001b[0;34m)\u001b[0m\u001b[0;34m\u001b[0m\u001b[0;34m\u001b[0m\u001b[0m\n\u001b[0m\u001b[1;32m    605\u001b[0m \u001b[0;34m\u001b[0m\u001b[0m\n\u001b[1;32m    606\u001b[0m \u001b[0;32mdef\u001b[0m \u001b[0mresetlocale\u001b[0m\u001b[0;34m(\u001b[0m\u001b[0mcategory\u001b[0m\u001b[0;34m=\u001b[0m\u001b[0mLC_ALL\u001b[0m\u001b[0;34m)\u001b[0m\u001b[0;34m:\u001b[0m\u001b[0;34m\u001b[0m\u001b[0;34m\u001b[0m\u001b[0m\n",
      "\u001b[0;31mError\u001b[0m: unsupported locale setting"
     ]
    }
   ],
   "source": [
    "flights.groupby(dep_date_time.dt.day_name('es')).date.count()  # I later learned of day_name()\n",
    "# you need to specify the language to use"
   ]
  },
  {
   "cell_type": "markdown",
   "metadata": {},
   "source": [
    "### Which carriers fly out of which airports?"
   ]
  },
  {
   "cell_type": "code",
   "execution_count": 38,
   "metadata": {},
   "outputs": [
    {
     "data": {
      "text/plain": [
       "carrier  origin\n",
       "9E       EWR        1268\n",
       "         JFK       14651\n",
       "         LGA        2541\n",
       "AA       EWR        3487\n",
       "         JFK       13783\n",
       "         LGA       15459\n",
       "AS       EWR         714\n",
       "B6       EWR        6557\n",
       "         JFK       42076\n",
       "         LGA        6002\n",
       "DL       EWR        4342\n",
       "         JFK       20701\n",
       "         LGA       23067\n",
       "EV       EWR       43939\n",
       "         JFK        1408\n",
       "         LGA        8826\n",
       "F9       LGA         685\n",
       "FL       LGA        3260\n",
       "HA       JFK         342\n",
       "MQ       EWR        2276\n",
       "         JFK        7193\n",
       "         LGA       16928\n",
       "OO       EWR           6\n",
       "         LGA          26\n",
       "UA       EWR       46087\n",
       "         JFK        4534\n",
       "         LGA        8044\n",
       "US       EWR        4405\n",
       "         JFK        2995\n",
       "         LGA       13136\n",
       "VX       EWR        1566\n",
       "         JFK        3596\n",
       "WN       EWR        6188\n",
       "         LGA        6087\n",
       "YV       LGA         601\n",
       "Name: flight, dtype: int64"
      ]
     },
     "execution_count": 38,
     "metadata": {},
     "output_type": "execute_result"
    }
   ],
   "source": [
    "# multi-index\n",
    "flights.groupby(['carrier','origin']).flight.count()"
   ]
  },
  {
   "cell_type": "code",
   "execution_count": 39,
   "metadata": {},
   "outputs": [
    {
     "data": {
      "text/plain": [
       "MultiIndex(levels=[['9E', 'AA', 'AS', 'B6', 'DL', 'EV', 'F9', 'FL', 'HA', 'MQ', 'OO', 'UA', 'US', 'VX', 'WN', 'YV'], ['EWR', 'JFK', 'LGA']],\n",
       "           codes=[[0, 0, 0, 1, 1, 1, 2, 3, 3, 3, 4, 4, 4, 5, 5, 5, 6, 7, 8, 9, 9, 9, 10, 10, 11, 11, 11, 12, 12, 12, 13, 13, 14, 14, 15], [0, 1, 2, 0, 1, 2, 0, 0, 1, 2, 0, 1, 2, 0, 1, 2, 2, 2, 1, 0, 1, 2, 0, 2, 0, 1, 2, 0, 1, 2, 0, 1, 0, 2, 2]],\n",
       "           names=['carrier', 'origin'])"
      ]
     },
     "execution_count": 39,
     "metadata": {},
     "output_type": "execute_result"
    }
   ],
   "source": [
    "flights.groupby(['carrier','origin']).flight.count().index"
   ]
  },
  {
   "cell_type": "markdown",
   "metadata": {},
   "source": [
    "You can make a 'pivot table' by unstacking the multi-index"
   ]
  },
  {
   "cell_type": "code",
   "execution_count": 40,
   "metadata": {},
   "outputs": [
    {
     "data": {
      "text/html": [
       "<div>\n",
       "<style scoped>\n",
       "    .dataframe tbody tr th:only-of-type {\n",
       "        vertical-align: middle;\n",
       "    }\n",
       "\n",
       "    .dataframe tbody tr th {\n",
       "        vertical-align: top;\n",
       "    }\n",
       "\n",
       "    .dataframe thead th {\n",
       "        text-align: right;\n",
       "    }\n",
       "</style>\n",
       "<table border=\"1\" class=\"dataframe\">\n",
       "  <thead>\n",
       "    <tr style=\"text-align: right;\">\n",
       "      <th>origin</th>\n",
       "      <th>EWR</th>\n",
       "      <th>JFK</th>\n",
       "      <th>LGA</th>\n",
       "    </tr>\n",
       "    <tr>\n",
       "      <th>carrier</th>\n",
       "      <th></th>\n",
       "      <th></th>\n",
       "      <th></th>\n",
       "    </tr>\n",
       "  </thead>\n",
       "  <tbody>\n",
       "    <tr>\n",
       "      <th>9E</th>\n",
       "      <td>1268.0</td>\n",
       "      <td>14651.0</td>\n",
       "      <td>2541.0</td>\n",
       "    </tr>\n",
       "    <tr>\n",
       "      <th>AA</th>\n",
       "      <td>3487.0</td>\n",
       "      <td>13783.0</td>\n",
       "      <td>15459.0</td>\n",
       "    </tr>\n",
       "    <tr>\n",
       "      <th>AS</th>\n",
       "      <td>714.0</td>\n",
       "      <td>NaN</td>\n",
       "      <td>NaN</td>\n",
       "    </tr>\n",
       "    <tr>\n",
       "      <th>B6</th>\n",
       "      <td>6557.0</td>\n",
       "      <td>42076.0</td>\n",
       "      <td>6002.0</td>\n",
       "    </tr>\n",
       "    <tr>\n",
       "      <th>DL</th>\n",
       "      <td>4342.0</td>\n",
       "      <td>20701.0</td>\n",
       "      <td>23067.0</td>\n",
       "    </tr>\n",
       "    <tr>\n",
       "      <th>EV</th>\n",
       "      <td>43939.0</td>\n",
       "      <td>1408.0</td>\n",
       "      <td>8826.0</td>\n",
       "    </tr>\n",
       "    <tr>\n",
       "      <th>F9</th>\n",
       "      <td>NaN</td>\n",
       "      <td>NaN</td>\n",
       "      <td>685.0</td>\n",
       "    </tr>\n",
       "    <tr>\n",
       "      <th>FL</th>\n",
       "      <td>NaN</td>\n",
       "      <td>NaN</td>\n",
       "      <td>3260.0</td>\n",
       "    </tr>\n",
       "    <tr>\n",
       "      <th>HA</th>\n",
       "      <td>NaN</td>\n",
       "      <td>342.0</td>\n",
       "      <td>NaN</td>\n",
       "    </tr>\n",
       "    <tr>\n",
       "      <th>MQ</th>\n",
       "      <td>2276.0</td>\n",
       "      <td>7193.0</td>\n",
       "      <td>16928.0</td>\n",
       "    </tr>\n",
       "    <tr>\n",
       "      <th>OO</th>\n",
       "      <td>6.0</td>\n",
       "      <td>NaN</td>\n",
       "      <td>26.0</td>\n",
       "    </tr>\n",
       "    <tr>\n",
       "      <th>UA</th>\n",
       "      <td>46087.0</td>\n",
       "      <td>4534.0</td>\n",
       "      <td>8044.0</td>\n",
       "    </tr>\n",
       "    <tr>\n",
       "      <th>US</th>\n",
       "      <td>4405.0</td>\n",
       "      <td>2995.0</td>\n",
       "      <td>13136.0</td>\n",
       "    </tr>\n",
       "    <tr>\n",
       "      <th>VX</th>\n",
       "      <td>1566.0</td>\n",
       "      <td>3596.0</td>\n",
       "      <td>NaN</td>\n",
       "    </tr>\n",
       "    <tr>\n",
       "      <th>WN</th>\n",
       "      <td>6188.0</td>\n",
       "      <td>NaN</td>\n",
       "      <td>6087.0</td>\n",
       "    </tr>\n",
       "    <tr>\n",
       "      <th>YV</th>\n",
       "      <td>NaN</td>\n",
       "      <td>NaN</td>\n",
       "      <td>601.0</td>\n",
       "    </tr>\n",
       "  </tbody>\n",
       "</table>\n",
       "</div>"
      ],
      "text/plain": [
       "origin       EWR      JFK      LGA\n",
       "carrier                           \n",
       "9E        1268.0  14651.0   2541.0\n",
       "AA        3487.0  13783.0  15459.0\n",
       "AS         714.0      NaN      NaN\n",
       "B6        6557.0  42076.0   6002.0\n",
       "DL        4342.0  20701.0  23067.0\n",
       "EV       43939.0   1408.0   8826.0\n",
       "F9           NaN      NaN    685.0\n",
       "FL           NaN      NaN   3260.0\n",
       "HA           NaN    342.0      NaN\n",
       "MQ        2276.0   7193.0  16928.0\n",
       "OO           6.0      NaN     26.0\n",
       "UA       46087.0   4534.0   8044.0\n",
       "US        4405.0   2995.0  13136.0\n",
       "VX        1566.0   3596.0      NaN\n",
       "WN        6188.0      NaN   6087.0\n",
       "YV           NaN      NaN    601.0"
      ]
     },
     "execution_count": 40,
     "metadata": {},
     "output_type": "execute_result"
    }
   ],
   "source": [
    "flights.groupby(['carrier','origin']).flight.count().unstack()"
   ]
  },
  {
   "cell_type": "markdown",
   "metadata": {},
   "source": [
    "You can also make a pivot table using the pivot_table method."
   ]
  },
  {
   "cell_type": "code",
   "execution_count": 41,
   "metadata": {},
   "outputs": [
    {
     "data": {
      "text/html": [
       "<div>\n",
       "<style scoped>\n",
       "    .dataframe tbody tr th:only-of-type {\n",
       "        vertical-align: middle;\n",
       "    }\n",
       "\n",
       "    .dataframe tbody tr th {\n",
       "        vertical-align: top;\n",
       "    }\n",
       "\n",
       "    .dataframe thead th {\n",
       "        text-align: right;\n",
       "    }\n",
       "</style>\n",
       "<table border=\"1\" class=\"dataframe\">\n",
       "  <thead>\n",
       "    <tr style=\"text-align: right;\">\n",
       "      <th>origin</th>\n",
       "      <th>EWR</th>\n",
       "      <th>JFK</th>\n",
       "      <th>LGA</th>\n",
       "    </tr>\n",
       "    <tr>\n",
       "      <th>carrier</th>\n",
       "      <th></th>\n",
       "      <th></th>\n",
       "      <th></th>\n",
       "    </tr>\n",
       "  </thead>\n",
       "  <tbody>\n",
       "    <tr>\n",
       "      <th>9E</th>\n",
       "      <td>1268.0</td>\n",
       "      <td>14651.0</td>\n",
       "      <td>2541.0</td>\n",
       "    </tr>\n",
       "    <tr>\n",
       "      <th>AA</th>\n",
       "      <td>3487.0</td>\n",
       "      <td>13783.0</td>\n",
       "      <td>15459.0</td>\n",
       "    </tr>\n",
       "    <tr>\n",
       "      <th>AS</th>\n",
       "      <td>714.0</td>\n",
       "      <td>NaN</td>\n",
       "      <td>NaN</td>\n",
       "    </tr>\n",
       "    <tr>\n",
       "      <th>B6</th>\n",
       "      <td>6557.0</td>\n",
       "      <td>42076.0</td>\n",
       "      <td>6002.0</td>\n",
       "    </tr>\n",
       "    <tr>\n",
       "      <th>DL</th>\n",
       "      <td>4342.0</td>\n",
       "      <td>20701.0</td>\n",
       "      <td>23067.0</td>\n",
       "    </tr>\n",
       "    <tr>\n",
       "      <th>EV</th>\n",
       "      <td>43939.0</td>\n",
       "      <td>1408.0</td>\n",
       "      <td>8826.0</td>\n",
       "    </tr>\n",
       "    <tr>\n",
       "      <th>F9</th>\n",
       "      <td>NaN</td>\n",
       "      <td>NaN</td>\n",
       "      <td>685.0</td>\n",
       "    </tr>\n",
       "    <tr>\n",
       "      <th>FL</th>\n",
       "      <td>NaN</td>\n",
       "      <td>NaN</td>\n",
       "      <td>3260.0</td>\n",
       "    </tr>\n",
       "    <tr>\n",
       "      <th>HA</th>\n",
       "      <td>NaN</td>\n",
       "      <td>342.0</td>\n",
       "      <td>NaN</td>\n",
       "    </tr>\n",
       "    <tr>\n",
       "      <th>MQ</th>\n",
       "      <td>2276.0</td>\n",
       "      <td>7193.0</td>\n",
       "      <td>16928.0</td>\n",
       "    </tr>\n",
       "    <tr>\n",
       "      <th>OO</th>\n",
       "      <td>6.0</td>\n",
       "      <td>NaN</td>\n",
       "      <td>26.0</td>\n",
       "    </tr>\n",
       "    <tr>\n",
       "      <th>UA</th>\n",
       "      <td>46087.0</td>\n",
       "      <td>4534.0</td>\n",
       "      <td>8044.0</td>\n",
       "    </tr>\n",
       "    <tr>\n",
       "      <th>US</th>\n",
       "      <td>4405.0</td>\n",
       "      <td>2995.0</td>\n",
       "      <td>13136.0</td>\n",
       "    </tr>\n",
       "    <tr>\n",
       "      <th>VX</th>\n",
       "      <td>1566.0</td>\n",
       "      <td>3596.0</td>\n",
       "      <td>NaN</td>\n",
       "    </tr>\n",
       "    <tr>\n",
       "      <th>WN</th>\n",
       "      <td>6188.0</td>\n",
       "      <td>NaN</td>\n",
       "      <td>6087.0</td>\n",
       "    </tr>\n",
       "    <tr>\n",
       "      <th>YV</th>\n",
       "      <td>NaN</td>\n",
       "      <td>NaN</td>\n",
       "      <td>601.0</td>\n",
       "    </tr>\n",
       "  </tbody>\n",
       "</table>\n",
       "</div>"
      ],
      "text/plain": [
       "origin       EWR      JFK      LGA\n",
       "carrier                           \n",
       "9E        1268.0  14651.0   2541.0\n",
       "AA        3487.0  13783.0  15459.0\n",
       "AS         714.0      NaN      NaN\n",
       "B6        6557.0  42076.0   6002.0\n",
       "DL        4342.0  20701.0  23067.0\n",
       "EV       43939.0   1408.0   8826.0\n",
       "F9           NaN      NaN    685.0\n",
       "FL           NaN      NaN   3260.0\n",
       "HA           NaN    342.0      NaN\n",
       "MQ        2276.0   7193.0  16928.0\n",
       "OO           6.0      NaN     26.0\n",
       "UA       46087.0   4534.0   8044.0\n",
       "US        4405.0   2995.0  13136.0\n",
       "VX        1566.0   3596.0      NaN\n",
       "WN        6188.0      NaN   6087.0\n",
       "YV           NaN      NaN    601.0"
      ]
     },
     "execution_count": 41,
     "metadata": {},
     "output_type": "execute_result"
    }
   ],
   "source": [
    "flights.pivot_table('flight',index = 'carrier', columns = 'origin', aggfunc = 'count')"
   ]
  },
  {
   "cell_type": "code",
   "execution_count": 42,
   "metadata": {},
   "outputs": [
    {
     "data": {
      "text/plain": [
       "<matplotlib.axes._subplots.AxesSubplot at 0x12225c438>"
      ]
     },
     "execution_count": 42,
     "metadata": {},
     "output_type": "execute_result"
    },
    {
     "data": {
      "image/png": "[encoded data removed]",
      "text/plain": [
       "<Figure size 432x288 with 1 Axes>"
      ]
     },
     "metadata": {
      "needs_background": "light"
     },
     "output_type": "display_data"
    }
   ],
   "source": [
    "flights.pivot_table('flight',index = 'carrier', \n",
    "                    columns = 'origin', aggfunc = 'count').plot.bar(stacked = True)"
   ]
  },
  {
   "cell_type": "code",
   "execution_count": 43,
   "metadata": {},
   "outputs": [
    {
     "data": {
      "text/plain": [
       "<matplotlib.axes._subplots.AxesSubplot at 0x1204181d0>"
      ]
     },
     "execution_count": 43,
     "metadata": {},
     "output_type": "execute_result"
    },
    {
     "data": {
      "image/png": "[encoded data removed]",
      "text/plain": [
       "<Figure size 432x288 with 1 Axes>"
      ]
     },
     "metadata": {
      "needs_background": "light"
     },
     "output_type": "display_data"
    }
   ],
   "source": [
    "flights.pivot_table('flight',index = 'carrier', \n",
    "                    columns = 'origin', aggfunc = 'count').plot.bar()"
   ]
  },
  {
   "cell_type": "markdown",
   "metadata": {},
   "source": [
    "You can see the top 4 carriers: B6, DL, EV, UA\n",
    "\n",
    "It appears:\n",
    "- B6 flies out of JFK the most.\n",
    "- DL uses JFK and LGA equally\n",
    "- EV uses EWR heavily\n",
    "- UA uses EWR heavily as well\n"
   ]
  },
  {
   "cell_type": "markdown",
   "metadata": {},
   "source": [
    "I'm curious to see for each of the airports, if one of the carriers will have more 'clout' because it is a bigger user of the airport."
   ]
  },
  {
   "cell_type": "code",
   "execution_count": 44,
   "metadata": {},
   "outputs": [
    {
     "data": {
      "text/plain": [
       "carrier\n",
       "UA    46087\n",
       "EV    43939\n",
       "B6     6557\n",
       "WN     6188\n",
       "US     4405\n",
       "DL     4342\n",
       "AA     3487\n",
       "MQ     2276\n",
       "VX     1566\n",
       "9E     1268\n",
       "AS      714\n",
       "OO        6\n",
       "Name: flight, dtype: int64"
      ]
     },
     "execution_count": 44,
     "metadata": {},
     "output_type": "execute_result"
    }
   ],
   "source": [
    "ewr = flights.loc[flights.origin == 'EWR'].groupby('carrier').flight.count().sort_values(\n",
    "    ascending = False)\n",
    "ewr"
   ]
  },
  {
   "cell_type": "markdown",
   "metadata": {},
   "source": [
    " I was curious if the proportion of UA and EV flights that are delayed is less than some of the smaller carrier.... maybe these big airlines get higher priority?? "
   ]
  },
  {
   "cell_type": "markdown",
   "metadata": {},
   "source": [
    "### Let's look at flights to Los Angeles"
   ]
  },
  {
   "cell_type": "code",
   "execution_count": 45,
   "metadata": {},
   "outputs": [],
   "source": [
    "la = flights.loc[flights.dest.isin(['LAX','BUR','ONT','LGB'])]"
   ]
  },
  {
   "cell_type": "code",
   "execution_count": 46,
   "metadata": {},
   "outputs": [
    {
     "data": {
      "text/plain": [
       "array(['LAX', 'LGB', 'BUR'], dtype=object)"
      ]
     },
     "execution_count": 46,
     "metadata": {},
     "output_type": "execute_result"
    }
   ],
   "source": [
    "la.dest.unique()"
   ]
  },
  {
   "cell_type": "code",
   "execution_count": 47,
   "metadata": {},
   "outputs": [
    {
     "data": {
      "text/plain": [
       "LAX    16174\n",
       "LGB      668\n",
       "BUR      371\n",
       "Name: dest, dtype: int64"
      ]
     },
     "execution_count": 47,
     "metadata": {},
     "output_type": "execute_result"
    }
   ],
   "source": [
    "la.dest.value_counts()"
   ]
  },
  {
   "cell_type": "code",
   "execution_count": null,
   "metadata": {},
   "outputs": [],
   "source": [
    "la.carrier.value_counts()"
   ]
  },
  {
   "cell_type": "code",
   "execution_count": null,
   "metadata": {},
   "outputs": [],
   "source": [
    "la.groupby('dest').carrier.value_counts()"
   ]
  },
  {
   "cell_type": "markdown",
   "metadata": {},
   "source": [
    "B6 (JetBlue) is the only carrier that goes to Burbank or Long Beach. There are no flights from Ontario to New York."
   ]
  },
  {
   "cell_type": "code",
   "execution_count": null,
   "metadata": {},
   "outputs": [],
   "source": [
    "la.groupby('dest').origin.value_counts()"
   ]
  },
  {
   "cell_type": "markdown",
   "metadata": {},
   "source": [
    "No direct flights from LaGuardia to Los Angeles. If you want to fly direct to Burbank or Long Beach, you must depart from JFK. "
   ]
  },
  {
   "cell_type": "code",
   "execution_count": null,
   "metadata": {},
   "outputs": [],
   "source": [
    "la.dep_delay[la.dep_delay.notnull()].astype(int).groupby(la.dest).mean()"
   ]
  },
  {
   "cell_type": "code",
   "execution_count": null,
   "metadata": {},
   "outputs": [],
   "source": []
  }
 ],
 "metadata": {
  "kernelspec": {
   "display_name": "Python 3",
   "language": "python",
   "name": "python3"
  },
  "language_info": {
   "codemirror_mode": {
    "name": "ipython",
    "version": 3
   },
   "file_extension": ".py",
   "mimetype": "text/x-python",
   "name": "python",
   "nbconvert_exporter": "python",
   "pygments_lexer": "ipython3",
   "version": "3.7.3"
  }
 },
 "nbformat": 4,
 "nbformat_minor": 2
}
